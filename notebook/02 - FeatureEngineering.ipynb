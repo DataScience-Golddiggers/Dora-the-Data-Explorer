{
 "cells": [
  {
   "cell_type": "markdown",
   "metadata": {},
   "source": [
    "# Feature Engineering - GUIDE Dataset\n",
    "\n",
    "**Obiettivo:** Preparare il dataset GUIDE per il machine learning, creando features significative a livello Incident.\n",
    "\n",
    "**Task:** Classificazione multi-classe di IncidentGrade (TruePositive, BenignPositive, FalsePositive)\n",
    "\n",
    "**Approccio:**\n",
    "1. Aggregare dati da Evidence → Alert → Incident level\n",
    "2. Creare features numeriche e categoriche\n",
    "3. Gestire valori mancanti\n",
    "4. Codificare variabili categoriche\n",
    "5. Salvare dataset processato per modeling"
   ]
  },
  {
   "cell_type": "markdown",
   "metadata": {},
   "source": [
    "## 1. Setup e Caricamento Dati"
   ]
  },
  {
   "cell_type": "code",
   "metadata": {
    "ExecuteTime": {
     "end_time": "2025-10-27T10:48:20.417514Z",
     "start_time": "2025-10-27T10:48:20.400105Z"
    }
   },
   "source": [
    "import pandas as pd\n",
    "import numpy as np\n",
    "import matplotlib.pyplot as plt\n",
    "import seaborn as sns\n",
    "from datetime import datetime\n",
    "import warnings\n",
    "warnings.filterwarnings('ignore')\n",
    "\n",
    "print(\"Librerie importate con successo!\")"
   ],
   "outputs": [
    {
     "name": "stdout",
     "output_type": "stream",
     "text": [
      "Librerie importate con successo!\n"
     ]
    }
   ],
   "execution_count": 4
  },
  {
   "cell_type": "code",
   "metadata": {
    "ExecuteTime": {
     "end_time": "2025-10-27T10:48:46.443762Z",
     "start_time": "2025-10-27T10:48:23.730895Z"
    }
   },
   "source": [
    "# Carica il dataset pulito dall'EDA\n",
    "file_path = '../data/GUIDE_Train.csv'\n",
    "\n",
    "print(\"Caricamento dataset...\")\n",
    "df = pd.read_csv(file_path)\n",
    "\n",
    "print(f\"Dataset caricato: {df.shape[0]:,} righe, {df.shape[1]} colonne\")\n",
    "print(f\"Memoria: {df.memory_usage(deep=True).sum() / 1024**2:.2f} MB\")"
   ],
   "outputs": [
    {
     "name": "stdout",
     "output_type": "stream",
     "text": [
      "Caricamento dataset...\n",
      "Dataset caricato: 9,516,837 righe, 45 colonne\n",
      "Memoria: 7890.70 MB\n"
     ]
    }
   ],
   "execution_count": 5
  },
  {
   "cell_type": "markdown",
   "metadata": {},
   "source": [
    "## 2. Pulizia Iniziale"
   ]
  },
  {
   "cell_type": "code",
   "metadata": {
    "ExecuteTime": {
     "end_time": "2025-10-27T10:49:06.373874Z",
     "start_time": "2025-10-27T10:49:01.837386Z"
    }
   },
   "source": [
    "# Rimuovi record senza target\n",
    "print(f\"Record con IncidentGrade nullo: {df['IncidentGrade'].isna().sum()}\")\n",
    "df = df[df['IncidentGrade'].notna()].copy()\n",
    "\n",
    "# Rimuovi colonne con >97% missing\n",
    "missing_pct = (df.isnull().sum() / len(df)) * 100\n",
    "cols_to_drop = missing_pct[missing_pct > 97].index.tolist()\n",
    "print(f\"\\nColonne rimosse (>97% missing): {cols_to_drop}\")\n",
    "df = df.drop(columns=cols_to_drop)\n",
    "\n",
    "# Rimuovi duplicati su Id\n",
    "duplicati = df['Id'].duplicated().sum()\n",
    "print(f\"\\nDuplicati su Id: {duplicati}\")\n",
    "if duplicati > 0:\n",
    "    df = df.drop_duplicates(subset=['Id'], keep='first')\n",
    "\n",
    "print(f\"\\nDimensioni dopo pulizia: {df.shape}\")"
   ],
   "outputs": [
    {
     "name": "stdout",
     "output_type": "stream",
     "text": [
      "Record con IncidentGrade nullo: 51340\n",
      "\n",
      "Colonne rimosse (>97% missing): ['ActionGrouped', 'ActionGranular', 'EmailClusterId', 'ThreatFamily', 'ResourceType', 'Roles', 'AntispamDirection']\n",
      "\n",
      "Duplicati su Id: 8758389\n",
      "\n",
      "Dimensioni dopo pulizia: (707108, 38)\n"
     ]
    }
   ],
   "execution_count": 6
  },
  {
   "cell_type": "markdown",
   "metadata": {},
   "source": [
    "## 3. Parsing Temporale"
   ]
  },
  {
   "cell_type": "code",
   "metadata": {
    "ExecuteTime": {
     "end_time": "2025-10-27T10:49:56.275132Z",
     "start_time": "2025-10-27T10:49:55.900843Z"
    }
   },
   "source": [
    "# Converti Timestamp\n",
    "df['Timestamp'] = pd.to_datetime(df['Timestamp'])\n",
    "df['Hour'] = df['Timestamp'].dt.hour\n",
    "df['DayOfWeek'] = df['Timestamp'].dt.dayofweek\n",
    "df['IsWeekend'] = (df['DayOfWeek'] >= 5).astype(int)\n",
    "df['TimeOfDay'] = pd.cut(df['Hour'], bins=[0, 6, 12, 18, 24], \n",
    "                         labels=['Night', 'Morning', 'Afternoon', 'Evening'], \n",
    "                         include_lowest=True)\n",
    "\n",
    "print(\"Features temporali create\")\n",
    "print(f\"Range temporale: {df['Timestamp'].min()} - {df['Timestamp'].max()}\")"
   ],
   "outputs": [
    {
     "name": "stdout",
     "output_type": "stream",
     "text": [
      "Features temporali create\n",
      "Range temporale: 2023-11-20 16:32:22+00:00 - 2024-06-17 14:45:38+00:00\n"
     ]
    }
   ],
   "execution_count": 7
  },
  {
   "cell_type": "markdown",
   "metadata": {},
   "source": [
    "## 4. Aggregazione a Livello Incident\n",
    "\n",
    "Questo è il passo più importante: trasformiamo le evidenze in features a livello incident."
   ]
  },
  {
   "cell_type": "code",
   "metadata": {
    "ExecuteTime": {
     "end_time": "2025-10-27T10:50:54.360485Z",
     "start_time": "2025-10-27T10:50:05.111759Z"
    }
   },
   "source": [
    "print(\"Creazione features aggregate per incident...\\n\")\n",
    "\n",
    "# Funzione per ottenere il valore più comune (moda)\n",
    "def get_mode(x):\n",
    "    mode = x.mode()\n",
    "    return mode[0] if len(mode) > 0 else x.iloc[0] if len(x) > 0 else None\n",
    "\n",
    "# Aggregazioni per IncidentId\n",
    "incident_agg = df.groupby('IncidentId').agg({\n",
    "    # Target (sempre uguale per lo stesso incident)\n",
    "    'IncidentGrade': 'first',\n",
    "    \n",
    "    # Conteggi strutturali\n",
    "    'AlertId': 'nunique',           # Numero di alert nell'incident\n",
    "    'Id': 'count',                   # Numero totale di evidenze\n",
    "    'EntityType': 'nunique',         # Diversità di entity types\n",
    "    'EvidenceRole': 'nunique',       # Diversità di evidence roles\n",
    "    \n",
    "    # Features categoriche (moda)\n",
    "    'Category': get_mode,\n",
    "    'DetectorId': get_mode,\n",
    "    'OrgId': 'first',\n",
    "    \n",
    "    # Features temporali\n",
    "    'Hour': ['min', 'max', 'mean'],\n",
    "    'DayOfWeek': get_mode,\n",
    "    'IsWeekend': 'max',\n",
    "    'Timestamp': ['min', 'max'],     # Per calcolare durata\n",
    "    \n",
    "    # Features geografiche\n",
    "    'CountryCode': 'nunique',\n",
    "    'State': 'nunique',\n",
    "    'City': 'nunique',\n",
    "    \n",
    "    # Features tecniche\n",
    "    'DeviceId': 'nunique',\n",
    "    'OSFamily': 'nunique',\n",
    "    'OSVersion': 'nunique',\n",
    "    \n",
    "    # Features di sicurezza\n",
    "    'SuspicionLevel': lambda x: x.notna().sum(),  # Quante evidenze hanno suspicion\n",
    "    'LastVerdict': lambda x: x.notna().sum(),     # Quante hanno verdict\n",
    "}).reset_index()\n",
    "\n",
    "# Rinomina colonne multi-livello\n",
    "incident_agg.columns = ['_'.join(col).strip('_') if isinstance(col, tuple) else col \n",
    "                        for col in incident_agg.columns.values]\n",
    "\n",
    "print(f\"Dataset aggregato creato: {incident_agg.shape}\")\n",
    "print(f\"\\nPrime colonne: {list(incident_agg.columns[:10])}\")"
   ],
   "outputs": [
    {
     "name": "stdout",
     "output_type": "stream",
     "text": [
      "Creazione features aggregate per incident...\n",
      "\n",
      "Dataset aggregato creato: (448901, 24)\n",
      "\n",
      "Prime colonne: ['IncidentId', 'IncidentGrade_first', 'AlertId_nunique', 'Id_count', 'EntityType_nunique', 'EvidenceRole_nunique', 'Category_get_mode', 'DetectorId_get_mode', 'OrgId_first', 'Hour_min']\n"
     ]
    }
   ],
   "execution_count": 8
  },
  {
   "cell_type": "code",
   "metadata": {
    "ExecuteTime": {
     "end_time": "2025-10-27T10:51:05.750562Z",
     "start_time": "2025-10-27T10:51:05.713645Z"
    }
   },
   "source": [
    "# Calcola durata incident (differenza tra prima e ultima evidenza)\n",
    "incident_agg['Duration_seconds'] = (\n",
    "    pd.to_datetime(incident_agg['Timestamp_max']) - \n",
    "    pd.to_datetime(incident_agg['Timestamp_min'])\n",
    ").dt.total_seconds()\n",
    "\n",
    "# Rinomina colonne per chiarezza\n",
    "rename_map = {\n",
    "    'AlertId_nunique': 'NumAlerts',\n",
    "    'Id_count': 'NumEvidences',\n",
    "    'EntityType_nunique': 'NumEntityTypes',\n",
    "    'EvidenceRole_nunique': 'NumEvidenceRoles',\n",
    "    'Hour_min': 'Hour_First',\n",
    "    'Hour_max': 'Hour_Last',\n",
    "    'Hour_mean': 'Hour_Avg',\n",
    "    'CountryCode_nunique': 'NumCountries',\n",
    "    'State_nunique': 'NumStates',\n",
    "    'City_nunique': 'NumCities',\n",
    "    'DeviceId_nunique': 'NumDevices',\n",
    "    'OSFamily_nunique': 'NumOSFamilies',\n",
    "    'OSVersion_nunique': 'NumOSVersions',\n",
    "    'SuspicionLevel_<lambda>': 'NumWithSuspicion',\n",
    "    'LastVerdict_<lambda>': 'NumWithVerdict',\n",
    "}\n",
    "\n",
    "incident_agg = incident_agg.rename(columns=rename_map)\n",
    "\n",
    "# Rimuovi colonne timestamp originali\n",
    "incident_agg = incident_agg.drop(columns=['Timestamp_min', 'Timestamp_max'], errors='ignore')\n",
    "\n",
    "print(f\"Features ingegnerizzate: {incident_agg.shape[1] - 2}\")  # -2 per IncidentId e target\n",
    "incident_agg.head()"
   ],
   "outputs": [
    {
     "name": "stdout",
     "output_type": "stream",
     "text": [
      "Features ingegnerizzate: 21\n"
     ]
    },
    {
     "data": {
      "text/plain": [
       "   IncidentId IncidentGrade_first  NumAlerts  NumEvidences  NumEntityTypes  \\\n",
       "0           0        TruePositive          1             1               1   \n",
       "1           2      BenignPositive          2             2               2   \n",
       "2           3        TruePositive          1             1               1   \n",
       "3           7      BenignPositive         11            11               7   \n",
       "4           8        TruePositive          2             2               2   \n",
       "\n",
       "   NumEvidenceRoles   Category_get_mode  DetectorId_get_mode  OrgId_first  \\\n",
       "0                 1       InitialAccess                    0           50   \n",
       "1                 2           Execution                    1           42   \n",
       "2                 1  SuspiciousActivity                    5          457   \n",
       "3                 2       InitialAccess                    0           14   \n",
       "4                 1       InitialAccess                   96          382   \n",
       "\n",
       "   Hour_First  ...  IsWeekend_max  NumCountries  NumStates  NumCities  \\\n",
       "0           8  ...              0             1          1          1   \n",
       "1           8  ...              0             1          1          1   \n",
       "2          16  ...              1             1          1          1   \n",
       "3           5  ...              1             3          4          4   \n",
       "4          20  ...              0             1          1          1   \n",
       "\n",
       "   NumDevices  NumOSFamilies  NumOSVersions  NumWithSuspicion  NumWithVerdict  \\\n",
       "0           1              1              1                 0               0   \n",
       "1           1              1              1                 1               1   \n",
       "2           1              1              1                 0               0   \n",
       "3           2              2              2                 2               4   \n",
       "4           1              1              1                 0               0   \n",
       "\n",
       "   Duration_seconds  \n",
       "0               0.0  \n",
       "1           74244.0  \n",
       "2               0.0  \n",
       "3         1888021.0  \n",
       "4          180032.0  \n",
       "\n",
       "[5 rows x 23 columns]"
      ],
      "text/html": [
       "<div>\n",
       "<style scoped>\n",
       "    .dataframe tbody tr th:only-of-type {\n",
       "        vertical-align: middle;\n",
       "    }\n",
       "\n",
       "    .dataframe tbody tr th {\n",
       "        vertical-align: top;\n",
       "    }\n",
       "\n",
       "    .dataframe thead th {\n",
       "        text-align: right;\n",
       "    }\n",
       "</style>\n",
       "<table border=\"1\" class=\"dataframe\">\n",
       "  <thead>\n",
       "    <tr style=\"text-align: right;\">\n",
       "      <th></th>\n",
       "      <th>IncidentId</th>\n",
       "      <th>IncidentGrade_first</th>\n",
       "      <th>NumAlerts</th>\n",
       "      <th>NumEvidences</th>\n",
       "      <th>NumEntityTypes</th>\n",
       "      <th>NumEvidenceRoles</th>\n",
       "      <th>Category_get_mode</th>\n",
       "      <th>DetectorId_get_mode</th>\n",
       "      <th>OrgId_first</th>\n",
       "      <th>Hour_First</th>\n",
       "      <th>...</th>\n",
       "      <th>IsWeekend_max</th>\n",
       "      <th>NumCountries</th>\n",
       "      <th>NumStates</th>\n",
       "      <th>NumCities</th>\n",
       "      <th>NumDevices</th>\n",
       "      <th>NumOSFamilies</th>\n",
       "      <th>NumOSVersions</th>\n",
       "      <th>NumWithSuspicion</th>\n",
       "      <th>NumWithVerdict</th>\n",
       "      <th>Duration_seconds</th>\n",
       "    </tr>\n",
       "  </thead>\n",
       "  <tbody>\n",
       "    <tr>\n",
       "      <th>0</th>\n",
       "      <td>0</td>\n",
       "      <td>TruePositive</td>\n",
       "      <td>1</td>\n",
       "      <td>1</td>\n",
       "      <td>1</td>\n",
       "      <td>1</td>\n",
       "      <td>InitialAccess</td>\n",
       "      <td>0</td>\n",
       "      <td>50</td>\n",
       "      <td>8</td>\n",
       "      <td>...</td>\n",
       "      <td>0</td>\n",
       "      <td>1</td>\n",
       "      <td>1</td>\n",
       "      <td>1</td>\n",
       "      <td>1</td>\n",
       "      <td>1</td>\n",
       "      <td>1</td>\n",
       "      <td>0</td>\n",
       "      <td>0</td>\n",
       "      <td>0.0</td>\n",
       "    </tr>\n",
       "    <tr>\n",
       "      <th>1</th>\n",
       "      <td>2</td>\n",
       "      <td>BenignPositive</td>\n",
       "      <td>2</td>\n",
       "      <td>2</td>\n",
       "      <td>2</td>\n",
       "      <td>2</td>\n",
       "      <td>Execution</td>\n",
       "      <td>1</td>\n",
       "      <td>42</td>\n",
       "      <td>8</td>\n",
       "      <td>...</td>\n",
       "      <td>0</td>\n",
       "      <td>1</td>\n",
       "      <td>1</td>\n",
       "      <td>1</td>\n",
       "      <td>1</td>\n",
       "      <td>1</td>\n",
       "      <td>1</td>\n",
       "      <td>1</td>\n",
       "      <td>1</td>\n",
       "      <td>74244.0</td>\n",
       "    </tr>\n",
       "    <tr>\n",
       "      <th>2</th>\n",
       "      <td>3</td>\n",
       "      <td>TruePositive</td>\n",
       "      <td>1</td>\n",
       "      <td>1</td>\n",
       "      <td>1</td>\n",
       "      <td>1</td>\n",
       "      <td>SuspiciousActivity</td>\n",
       "      <td>5</td>\n",
       "      <td>457</td>\n",
       "      <td>16</td>\n",
       "      <td>...</td>\n",
       "      <td>1</td>\n",
       "      <td>1</td>\n",
       "      <td>1</td>\n",
       "      <td>1</td>\n",
       "      <td>1</td>\n",
       "      <td>1</td>\n",
       "      <td>1</td>\n",
       "      <td>0</td>\n",
       "      <td>0</td>\n",
       "      <td>0.0</td>\n",
       "    </tr>\n",
       "    <tr>\n",
       "      <th>3</th>\n",
       "      <td>7</td>\n",
       "      <td>BenignPositive</td>\n",
       "      <td>11</td>\n",
       "      <td>11</td>\n",
       "      <td>7</td>\n",
       "      <td>2</td>\n",
       "      <td>InitialAccess</td>\n",
       "      <td>0</td>\n",
       "      <td>14</td>\n",
       "      <td>5</td>\n",
       "      <td>...</td>\n",
       "      <td>1</td>\n",
       "      <td>3</td>\n",
       "      <td>4</td>\n",
       "      <td>4</td>\n",
       "      <td>2</td>\n",
       "      <td>2</td>\n",
       "      <td>2</td>\n",
       "      <td>2</td>\n",
       "      <td>4</td>\n",
       "      <td>1888021.0</td>\n",
       "    </tr>\n",
       "    <tr>\n",
       "      <th>4</th>\n",
       "      <td>8</td>\n",
       "      <td>TruePositive</td>\n",
       "      <td>2</td>\n",
       "      <td>2</td>\n",
       "      <td>2</td>\n",
       "      <td>1</td>\n",
       "      <td>InitialAccess</td>\n",
       "      <td>96</td>\n",
       "      <td>382</td>\n",
       "      <td>20</td>\n",
       "      <td>...</td>\n",
       "      <td>0</td>\n",
       "      <td>1</td>\n",
       "      <td>1</td>\n",
       "      <td>1</td>\n",
       "      <td>1</td>\n",
       "      <td>1</td>\n",
       "      <td>1</td>\n",
       "      <td>0</td>\n",
       "      <td>0</td>\n",
       "      <td>180032.0</td>\n",
       "    </tr>\n",
       "  </tbody>\n",
       "</table>\n",
       "<p>5 rows × 23 columns</p>\n",
       "</div>"
      ]
     },
     "execution_count": 9,
     "metadata": {},
     "output_type": "execute_result"
    }
   ],
   "execution_count": 9
  },
  {
   "cell_type": "markdown",
   "metadata": {},
   "source": [
    "## 5. Feature Engineering Avanzato - MITRE Techniques"
   ]
  },
  {
   "cell_type": "code",
   "metadata": {
    "ExecuteTime": {
     "end_time": "2025-10-27T10:51:38.242008Z",
     "start_time": "2025-10-27T10:51:15.868434Z"
    }
   },
   "source": [
    "# Analizza MITRE Techniques\n",
    "print(\"Processing MITRE Techniques...\")\n",
    "\n",
    "# Crea features da MitreTechniques\n",
    "mitre_features = df.groupby('IncidentId')['MitreTechniques'].agg([\n",
    "    ('NumWithMitre', lambda x: x.notna().sum()),  # Quante evidenze hanno tecniche MITRE\n",
    "    ('NumUniqueMitre', lambda x: len(set(','.join(x.dropna().astype(str)).split(',')))),  # Tecniche uniche\n",
    "]).reset_index()\n",
    "\n",
    "# Merge con dataset principale\n",
    "incident_agg = incident_agg.merge(mitre_features, on='IncidentId', how='left')\n",
    "\n",
    "print(f\"Features MITRE aggiunte. Shape: {incident_agg.shape}\")"
   ],
   "outputs": [
    {
     "name": "stdout",
     "output_type": "stream",
     "text": [
      "Processing MITRE Techniques...\n",
      "Features MITRE aggiunte. Shape: (448901, 25)\n"
     ]
    }
   ],
   "execution_count": 10
  },
  {
   "cell_type": "markdown",
   "metadata": {},
   "source": [
    "## 6. Gestione Valori Categorici"
   ]
  },
  {
   "cell_type": "code",
   "metadata": {
    "ExecuteTime": {
     "end_time": "2025-10-27T10:51:44.584716Z",
     "start_time": "2025-10-27T10:51:44.552832Z"
    }
   },
   "source": [
    "# Identifica colonne categoriche\n",
    "categorical_cols = incident_agg.select_dtypes(include=['object', 'category']).columns.tolist()\n",
    "\n",
    "# Rimuovi IncidentId e IncidentGrade\n",
    "categorical_cols = [col for col in categorical_cols if col not in ['IncidentId', 'IncidentGrade']]\n",
    "\n",
    "print(f\"Colonne categoriche da processare: {categorical_cols}\")\n",
    "\n",
    "# Per colonne con alta cardinalità, sostituisci valori rari con 'Other'\n",
    "for col in categorical_cols:\n",
    "    if incident_agg[col].nunique() > 100:\n",
    "        # Mantieni solo i top 50 valori\n",
    "        top_values = incident_agg[col].value_counts().head(50).index\n",
    "        incident_agg[col] = incident_agg[col].apply(lambda x: x if x in top_values else 'Other')\n",
    "        print(f\"  {col}: ridotto a {incident_agg[col].nunique()} categorie\")"
   ],
   "outputs": [
    {
     "name": "stdout",
     "output_type": "stream",
     "text": [
      "Colonne categoriche da processare: ['IncidentGrade_first', 'Category_get_mode']\n"
     ]
    }
   ],
   "execution_count": 11
  },
  {
   "cell_type": "markdown",
   "metadata": {},
   "source": [
    "## 7. Preparazione per ML: Train/Test Split"
   ]
  },
  {
   "cell_type": "code",
   "metadata": {
    "ExecuteTime": {
     "end_time": "2025-10-27T10:52:06.704444Z",
     "start_time": "2025-10-27T10:52:06.665479Z"
    }
   },
   "source": [
    "# Separa features e target\n",
    "X = incident_agg.drop(columns=['IncidentId', 'IncidentGrade_first'])\n",
    "y = incident_agg['IncidentGrade_first']\n",
    "\n",
    "print(f\"Features shape: {X.shape}\")\n",
    "print(f\"Target shape: {y.shape}\")\n",
    "print(f\"\\nDistribuzione target:\")\n",
    "print(y.value_counts())\n",
    "print(f\"\\nProporzioni:\")\n",
    "print(y.value_counts(normalize=True))"
   ],
   "outputs": [
    {
     "name": "stdout",
     "output_type": "stream",
     "text": [
      "Features shape: (448901, 23)\n",
      "Target shape: (448901,)\n",
      "\n",
      "Distribuzione target:\n",
      "IncidentGrade_first\n",
      "BenignPositive    218131\n",
      "FalsePositive     135158\n",
      "TruePositive       95612\n",
      "Name: count, dtype: int64\n",
      "\n",
      "Proporzioni:\n",
      "IncidentGrade_first\n",
      "BenignPositive    0.485922\n",
      "FalsePositive     0.301086\n",
      "TruePositive      0.212991\n",
      "Name: proportion, dtype: float64\n"
     ]
    }
   ],
   "execution_count": 12
  },
  {
   "cell_type": "code",
   "metadata": {
    "ExecuteTime": {
     "end_time": "2025-10-27T10:54:46.508715Z",
     "start_time": "2025-10-27T10:54:46.060829Z"
    }
   },
   "source": [
    "# Label encoding per variabili categoriche\n",
    "from sklearn.preprocessing import LabelEncoder\n",
    "\n",
    "label_encoders = {}\n",
    "X_encoded = X.copy()\n",
    "\n",
    "for col in categorical_cols:\n",
    "    if col in X_encoded.columns:\n",
    "        le = LabelEncoder()\n",
    "        X_encoded[col] = le.fit_transform(X_encoded[col].astype(str))\n",
    "        label_encoders[col] = le\n",
    "\n",
    "print(f\"Encoded {len(label_encoders)} categorical features\")\n",
    "print(f\"\\nTipi di dati finali:\")\n",
    "print(X_encoded.dtypes.value_counts())"
   ],
   "outputs": [
    {
     "name": "stdout",
     "output_type": "stream",
     "text": [
      "Encoded 1 categorical features\n",
      "\n",
      "Tipi di dati finali:\n",
      "int64      18\n",
      "int32       3\n",
      "float64     2\n",
      "Name: count, dtype: int64\n"
     ]
    }
   ],
   "execution_count": 14
  },
  {
   "cell_type": "code",
   "metadata": {
    "ExecuteTime": {
     "end_time": "2025-10-27T10:55:13.769432Z",
     "start_time": "2025-10-27T10:55:13.757765Z"
    }
   },
   "source": [
    "# Gestisci missing values\n",
    "print(\"\\nMissing values prima dell'imputazione:\")\n",
    "missing = X_encoded.isnull().sum()\n",
    "print(missing[missing > 0])\n",
    "\n",
    "# Sostituisci NaN con -999 (XGBoost gestisce bene questo approccio)\n",
    "X_encoded = X_encoded.fillna(-999)\n",
    "\n",
    "print(f\"\\nMissing values dopo imputazione: {X_encoded.isnull().sum().sum()}\")"
   ],
   "outputs": [
    {
     "name": "stdout",
     "output_type": "stream",
     "text": [
      "\n",
      "Missing values prima dell'imputazione:\n",
      "Series([], dtype: int64)\n",
      "\n",
      "Missing values dopo imputazione: 0\n"
     ]
    }
   ],
   "execution_count": 15
  },
  {
   "cell_type": "code",
   "metadata": {
    "ExecuteTime": {
     "end_time": "2025-10-27T10:55:20.125397Z",
     "start_time": "2025-10-27T10:55:19.865645Z"
    }
   },
   "source": [
    "# Split stratificato\n",
    "from sklearn.model_selection import train_test_split\n",
    "\n",
    "X_train, X_test, y_train, y_test = train_test_split(\n",
    "    X_encoded, y, \n",
    "    test_size=0.2, \n",
    "    stratify=y, \n",
    "    random_state=42\n",
    ")\n",
    "\n",
    "print(\"Train/Test Split completato\")\n",
    "print(f\"\\nX_train: {X_train.shape}\")\n",
    "print(f\"X_test: {X_test.shape}\")\n",
    "print(f\"\\nDistribuzione y_train:\")\n",
    "print(y_train.value_counts(normalize=True))\n",
    "print(f\"\\nDistribuzione y_test:\")\n",
    "print(y_test.value_counts(normalize=True))"
   ],
   "outputs": [
    {
     "name": "stdout",
     "output_type": "stream",
     "text": [
      "Train/Test Split completato\n",
      "\n",
      "X_train: (359120, 23)\n",
      "X_test: (89781, 23)\n",
      "\n",
      "Distribuzione y_train:\n",
      "IncidentGrade_first\n",
      "BenignPositive    0.485921\n",
      "FalsePositive     0.301086\n",
      "TruePositive      0.212993\n",
      "Name: proportion, dtype: float64\n",
      "\n",
      "Distribuzione y_test:\n",
      "IncidentGrade_first\n",
      "BenignPositive    0.485927\n",
      "FalsePositive     0.301088\n",
      "TruePositive      0.212985\n",
      "Name: proportion, dtype: float64\n"
     ]
    }
   ],
   "execution_count": 16
  },
  {
   "cell_type": "markdown",
   "metadata": {},
   "source": [
    "## 8. Salvataggio Dataset Processato"
   ]
  },
  {
   "cell_type": "code",
   "metadata": {
    "ExecuteTime": {
     "end_time": "2025-10-27T10:55:28.284261Z",
     "start_time": "2025-10-27T10:55:26.404800Z"
    }
   },
   "source": [
    "# Salva i dataset processati\n",
    "import pickle\n",
    "\n",
    "# Crea directory per i dati processati\n",
    "import os\n",
    "os.makedirs('../data/processed', exist_ok=True)\n",
    "\n",
    "# Salva train/test\n",
    "X_train.to_csv('../data/processed/X_train.csv', index=False)\n",
    "X_test.to_csv('../data/processed/X_test.csv', index=False)\n",
    "y_train.to_csv('../data/processed/y_train.csv', index=False, header=['IncidentGrade'])\n",
    "y_test.to_csv('../data/processed/y_test.csv', index=False, header=['IncidentGrade'])\n",
    "\n",
    "# Salva label encoders\n",
    "with open('../data/processed/label_encoders.pkl', 'wb') as f:\n",
    "    pickle.dump(label_encoders, f)\n",
    "\n",
    "# Salva anche il dataset aggregato completo\n",
    "incident_agg.to_csv('../data/processed/incident_features.csv', index=False)\n",
    "\n",
    "print(\"Dataset salvati in ../data/processed/\")\n",
    "print(f\"  - X_train.csv: {X_train.shape}\")\n",
    "print(f\"  - X_test.csv: {X_test.shape}\")\n",
    "print(f\"  - y_train.csv: {y_train.shape}\")\n",
    "print(f\"  - y_test.csv: {y_test.shape}\")\n",
    "print(f\"  - incident_features.csv: {incident_agg.shape}\")"
   ],
   "outputs": [
    {
     "name": "stdout",
     "output_type": "stream",
     "text": [
      "Dataset salvati in ../data/processed/\n",
      "  - X_train.csv: (359120, 23)\n",
      "  - X_test.csv: (89781, 23)\n",
      "  - y_train.csv: (359120,)\n",
      "  - y_test.csv: (89781,)\n",
      "  - incident_features.csv: (448901, 25)\n"
     ]
    }
   ],
   "execution_count": 17
  },
  {
   "cell_type": "markdown",
   "metadata": {},
   "source": [
    "## 9. Analisi Features Create"
   ]
  },
  {
   "cell_type": "code",
   "metadata": {
    "ExecuteTime": {
     "end_time": "2025-10-27T10:56:01.235611Z",
     "start_time": "2025-10-27T10:56:01.233176Z"
    }
   },
   "source": [
    "# Lista features create\n",
    "print(f\"Totale features: {X_encoded.shape[1]}\")\n",
    "print(f\"\\nLista completa features:\")\n",
    "for i, col in enumerate(X_encoded.columns, 1):\n",
    "    print(f\"{i:2d}. {col}\")"
   ],
   "outputs": [
    {
     "name": "stdout",
     "output_type": "stream",
     "text": [
      "Totale features: 23\n",
      "\n",
      "Lista completa features:\n",
      " 1. NumAlerts\n",
      " 2. NumEvidences\n",
      " 3. NumEntityTypes\n",
      " 4. NumEvidenceRoles\n",
      " 5. Category_get_mode\n",
      " 6. DetectorId_get_mode\n",
      " 7. OrgId_first\n",
      " 8. Hour_First\n",
      " 9. Hour_Last\n",
      "10. Hour_Avg\n",
      "11. DayOfWeek_get_mode\n",
      "12. IsWeekend_max\n",
      "13. NumCountries\n",
      "14. NumStates\n",
      "15. NumCities\n",
      "16. NumDevices\n",
      "17. NumOSFamilies\n",
      "18. NumOSVersions\n",
      "19. NumWithSuspicion\n",
      "20. NumWithVerdict\n",
      "21. Duration_seconds\n",
      "22. NumWithMitre\n",
      "23. NumUniqueMitre\n"
     ]
    }
   ],
   "execution_count": 19
  },
  {
   "cell_type": "code",
   "metadata": {
    "ExecuteTime": {
     "end_time": "2025-10-27T10:56:03.783442Z",
     "start_time": "2025-10-27T10:56:03.747585Z"
    }
   },
   "source": [
    "# Statistiche descrittive delle features numeriche principali\n",
    "key_features = ['NumAlerts', 'NumEvidences', 'NumEntityTypes', 'NumDevices', \n",
    "                'Duration_seconds', 'NumWithMitre', 'NumCountries']\n",
    "\n",
    "available_features = [f for f in key_features if f in X_encoded.columns]\n",
    "X_encoded[available_features].describe()"
   ],
   "outputs": [
    {
     "data": {
      "text/plain": [
       "           NumAlerts   NumEvidences  NumEntityTypes     NumDevices  \\\n",
       "count  448901.000000  448901.000000   448901.000000  448901.000000   \n",
       "mean        1.575198       1.575198        1.452209       1.043165   \n",
       "std         1.174543       1.174543        0.909125       0.213337   \n",
       "min         1.000000       1.000000        1.000000       1.000000   \n",
       "25%         1.000000       1.000000        1.000000       1.000000   \n",
       "50%         1.000000       1.000000        1.000000       1.000000   \n",
       "75%         2.000000       2.000000        2.000000       1.000000   \n",
       "max        13.000000      13.000000       10.000000       4.000000   \n",
       "\n",
       "       Duration_seconds   NumWithMitre   NumCountries  \n",
       "count      4.489010e+05  448901.000000  448901.000000  \n",
       "mean       1.772810e+05       0.547123       1.043549  \n",
       "std        4.341154e+05       0.836719       0.214841  \n",
       "min        0.000000e+00       0.000000       1.000000  \n",
       "25%        0.000000e+00       0.000000       1.000000  \n",
       "50%        0.000000e+00       0.000000       1.000000  \n",
       "75%        1.500040e+05       1.000000       1.000000  \n",
       "max        1.739726e+07       9.000000       5.000000  "
      ],
      "text/html": [
       "<div>\n",
       "<style scoped>\n",
       "    .dataframe tbody tr th:only-of-type {\n",
       "        vertical-align: middle;\n",
       "    }\n",
       "\n",
       "    .dataframe tbody tr th {\n",
       "        vertical-align: top;\n",
       "    }\n",
       "\n",
       "    .dataframe thead th {\n",
       "        text-align: right;\n",
       "    }\n",
       "</style>\n",
       "<table border=\"1\" class=\"dataframe\">\n",
       "  <thead>\n",
       "    <tr style=\"text-align: right;\">\n",
       "      <th></th>\n",
       "      <th>NumAlerts</th>\n",
       "      <th>NumEvidences</th>\n",
       "      <th>NumEntityTypes</th>\n",
       "      <th>NumDevices</th>\n",
       "      <th>Duration_seconds</th>\n",
       "      <th>NumWithMitre</th>\n",
       "      <th>NumCountries</th>\n",
       "    </tr>\n",
       "  </thead>\n",
       "  <tbody>\n",
       "    <tr>\n",
       "      <th>count</th>\n",
       "      <td>448901.000000</td>\n",
       "      <td>448901.000000</td>\n",
       "      <td>448901.000000</td>\n",
       "      <td>448901.000000</td>\n",
       "      <td>4.489010e+05</td>\n",
       "      <td>448901.000000</td>\n",
       "      <td>448901.000000</td>\n",
       "    </tr>\n",
       "    <tr>\n",
       "      <th>mean</th>\n",
       "      <td>1.575198</td>\n",
       "      <td>1.575198</td>\n",
       "      <td>1.452209</td>\n",
       "      <td>1.043165</td>\n",
       "      <td>1.772810e+05</td>\n",
       "      <td>0.547123</td>\n",
       "      <td>1.043549</td>\n",
       "    </tr>\n",
       "    <tr>\n",
       "      <th>std</th>\n",
       "      <td>1.174543</td>\n",
       "      <td>1.174543</td>\n",
       "      <td>0.909125</td>\n",
       "      <td>0.213337</td>\n",
       "      <td>4.341154e+05</td>\n",
       "      <td>0.836719</td>\n",
       "      <td>0.214841</td>\n",
       "    </tr>\n",
       "    <tr>\n",
       "      <th>min</th>\n",
       "      <td>1.000000</td>\n",
       "      <td>1.000000</td>\n",
       "      <td>1.000000</td>\n",
       "      <td>1.000000</td>\n",
       "      <td>0.000000e+00</td>\n",
       "      <td>0.000000</td>\n",
       "      <td>1.000000</td>\n",
       "    </tr>\n",
       "    <tr>\n",
       "      <th>25%</th>\n",
       "      <td>1.000000</td>\n",
       "      <td>1.000000</td>\n",
       "      <td>1.000000</td>\n",
       "      <td>1.000000</td>\n",
       "      <td>0.000000e+00</td>\n",
       "      <td>0.000000</td>\n",
       "      <td>1.000000</td>\n",
       "    </tr>\n",
       "    <tr>\n",
       "      <th>50%</th>\n",
       "      <td>1.000000</td>\n",
       "      <td>1.000000</td>\n",
       "      <td>1.000000</td>\n",
       "      <td>1.000000</td>\n",
       "      <td>0.000000e+00</td>\n",
       "      <td>0.000000</td>\n",
       "      <td>1.000000</td>\n",
       "    </tr>\n",
       "    <tr>\n",
       "      <th>75%</th>\n",
       "      <td>2.000000</td>\n",
       "      <td>2.000000</td>\n",
       "      <td>2.000000</td>\n",
       "      <td>1.000000</td>\n",
       "      <td>1.500040e+05</td>\n",
       "      <td>1.000000</td>\n",
       "      <td>1.000000</td>\n",
       "    </tr>\n",
       "    <tr>\n",
       "      <th>max</th>\n",
       "      <td>13.000000</td>\n",
       "      <td>13.000000</td>\n",
       "      <td>10.000000</td>\n",
       "      <td>4.000000</td>\n",
       "      <td>1.739726e+07</td>\n",
       "      <td>9.000000</td>\n",
       "      <td>5.000000</td>\n",
       "    </tr>\n",
       "  </tbody>\n",
       "</table>\n",
       "</div>"
      ]
     },
     "execution_count": 20,
     "metadata": {},
     "output_type": "execute_result"
    }
   ],
   "execution_count": 20
  },
  {
   "cell_type": "code",
   "metadata": {
    "ExecuteTime": {
     "end_time": "2025-10-27T10:56:41.221138Z",
     "start_time": "2025-10-27T10:56:40.584019Z"
    }
   },
   "source": [
    "# Visualizza distribuzione di alcune features chiave per target\n",
    "fig, axes = plt.subplots(2, 3, figsize=(16, 10))\n",
    "axes = axes.flatten()\n",
    "\n",
    "plot_features = ['NumAlerts', 'NumEvidences', 'NumEntityTypes', \n",
    "                 'NumDevices', 'Duration_seconds', 'NumWithMitre']\n",
    "\n",
    "for i, feature in enumerate(plot_features):\n",
    "    if feature in incident_agg.columns:\n",
    "        for grade in incident_agg['IncidentGrade_first'].unique():\n",
    "            data = incident_agg[incident_agg['IncidentGrade_first'] == grade][feature]\n",
    "            axes[i].hist(data, alpha=0.5, label=grade, bins=30)\n",
    "        axes[i].set_xlabel(feature)\n",
    "        axes[i].set_ylabel('Frequenza')\n",
    "        axes[i].legend()\n",
    "        axes[i].set_title(f'Distribuzione {feature} per IncidentGrade_first')\n",
    "\n",
    "plt.tight_layout()\n",
    "plt.show()"
   ],
   "outputs": [
    {
     "data": {
      "text/plain": [
       "<Figure size 1600x1000 with 6 Axes>"
      ],
      "image/png": "[encoded data removed]"
     },
     "metadata": {},
     "output_type": "display_data",
     "jetTransient": {
      "display_id": null
     }
    }
   ],
   "execution_count": 22
  },
  {
   "cell_type": "markdown",
   "metadata": {},
   "source": [
    "## 10. Riepilogo Feature Engineering\n",
    "\n",
    "**Features create:**\n",
    "1. **Conteggi strutturali:** NumAlerts, NumEvidences, NumEntityTypes, NumEvidenceRoles\n",
    "2. **Features temporali:** Hour_First, Hour_Last, Hour_Avg, DayOfWeek, IsWeekend, Duration_seconds\n",
    "3. **Features geografiche:** NumCountries, NumStates, NumCities\n",
    "4. **Features tecniche:** NumDevices, NumOSFamilies, NumOSVersions\n",
    "5. **Features di sicurezza:** NumWithSuspicion, NumWithVerdict, NumWithMitre, NumUniqueMitre\n",
    "6. **Features categoriche:** Category, DetectorId, OrgId (encoded)\n",
    "\n",
    "**Prossimi passi:**\n",
    "- Training modelli (XGBoost, LightGBM, Random Forest)\n",
    "- Ottimizzazione iperparametri\n",
    "- Feature importance analysis\n",
    "- Cross-validation con macro-F1 score"
   ]
  }
 ],
 "metadata": {
  "kernelspec": {
   "display_name": "Python 3",
   "language": "python",
   "name": "python3"
  },
  "language_info": {
   "codemirror_mode": {
    "name": "ipython",
    "version": 3
   },
   "file_extension": ".py",
   "mimetype": "text/x-python",
   "name": "python",
   "nbconvert_exporter": "python",
   "pygments_lexer": "ipython3",
   "version": "3.8.0"
  }
 },
 "nbformat": 4,
 "nbformat_minor": 4
}
