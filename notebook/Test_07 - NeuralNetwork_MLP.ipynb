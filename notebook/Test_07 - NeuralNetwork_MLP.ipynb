{
 "cells": [
  {
   "cell_type": "markdown",
   "id": "029d7385",
   "metadata": {},
   "source": [
    "# Neural Network (MLP) - Binary Classification\n",
    "\n",
    "**Modello:** Multi-Layer Perceptron con supporto GPU (CUDA/MPS)\n",
    "\n",
    "**Dataset:** Processed v4 hybrid (43 features, 314k samples)\n",
    "\n",
    "**Bilanciamento:** Class weights (no SMOTE per performance)\n",
    "\n",
    "**Architettura:**\n",
    "- Input layer: 43 features\n",
    "- Hidden layers: [128, 64, 32] con ReLU + Dropout\n",
    "- Output layer: 1 neuron + Sigmoid\n",
    "- Loss: Binary Cross-Entropy con class weights\n",
    "\n",
    "**Hardware:** Supporto per GPU NVIDIA (CUDA), Apple Silicon (MPS) o CPU"
   ]
  },
  {
   "cell_type": "markdown",
   "id": "0b8bd9a0",
   "metadata": {},
   "source": [
    "## 1. Setup"
   ]
  },
  {
   "cell_type": "code",
   "id": "9648808a",
   "metadata": {
    "ExecuteTime": {
     "end_time": "2025-11-01T21:38:50.284990Z",
     "start_time": "2025-11-01T21:38:50.273240Z"
    }
   },
   "source": [
    "import pandas as pd\n",
    "import numpy as np\n",
    "import matplotlib.pyplot as plt\n",
    "import seaborn as sns\n",
    "\n",
    "import torch\n",
    "import torch.nn as nn\n",
    "import torch.optim as optim\n",
    "from torch.utils.data import TensorDataset, DataLoader\n",
    "from sklearn.preprocessing import StandardScaler\n",
    "from sklearn.metrics import (\n",
    "    classification_report,\n",
    "    confusion_matrix,\n",
    "    roc_auc_score,\n",
    "    roc_curve,\n",
    "    precision_score,\n",
    "    recall_score,\n",
    "    f1_score,\n",
    "    accuracy_score\n",
    ")\n",
    "import warnings\n",
    "warnings.filterwarnings('ignore')\n",
    "\n",
    "%matplotlib inline\n",
    "sns.set_style('whitegrid')\n",
    "\n",
    "# Verifica disponibilità GPU (CUDA > MPS > CPU)\n",
    "if torch.cuda.is_available():\n",
    "    device = torch.device('cuda')\n",
    "    print(f\"Device: {device} ({torch.cuda.get_device_name(0)})\")\n",
    "    print(f\"CUDA version: {torch.version.cuda}\")\n",
    "elif torch.backends.mps.is_available():\n",
    "    device = torch.device('mps')\n",
    "    print(f\"Device: {device} (Metal Performance Shaders)\")\n",
    "else:\n",
    "    device = torch.device('cpu')\n",
    "    print(f\"Device: {device}\")\n",
    "\n",
    "print(f\"PyTorch version: {torch.__version__}\")"
   ],
   "outputs": [
    {
     "name": "stdout",
     "output_type": "stream",
     "text": [
      "Device: cuda (NVIDIA GeForce RTX 3060 Ti)\n",
      "CUDA version: 12.1\n",
      "PyTorch version: 2.5.1+cu121\n"
     ]
    }
   ],
   "execution_count": 13
  },
  {
   "cell_type": "markdown",
   "id": "17a9d439",
   "metadata": {},
   "source": [
    "## 2. Caricamento e Preprocessing"
   ]
  },
  {
   "cell_type": "code",
   "id": "7d9237aa",
   "metadata": {
    "ExecuteTime": {
     "end_time": "2025-11-01T21:38:51.511998Z",
     "start_time": "2025-11-01T21:38:50.300858Z"
    }
   },
   "source": [
    "print(\"Caricamento dati...\\n\")\n",
    "\n",
    "X_train = pd.read_csv('../data/processed_v4_hybrid/X_train.csv')\n",
    "X_test = pd.read_csv('../data/processed_v4_hybrid/X_test.csv')\n",
    "y_train = pd.read_csv('../data/processed_v4_hybrid/y_train.csv')['BinaryIncidentGrade']\n",
    "y_test = pd.read_csv('../data/processed_v4_hybrid/y_test.csv')['BinaryIncidentGrade']\n",
    "\n",
    "print(f\"X_train: {X_train.shape}\")\n",
    "print(f\"X_test: {X_test.shape}\")\n",
    "print(f\"\\nClass distribution: {y_train.value_counts().to_dict()}\")"
   ],
   "outputs": [
    {
     "name": "stdout",
     "output_type": "stream",
     "text": [
      "Caricamento dati...\n",
      "\n",
      "X_train: (304848, 43)\n",
      "X_test: (149537, 43)\n",
      "\n",
      "Class distribution: {0: 152424, 1: 152424}\n"
     ]
    }
   ],
   "execution_count": 14
  },
  {
   "cell_type": "code",
   "id": "0a63426f",
   "metadata": {
    "ExecuteTime": {
     "end_time": "2025-11-01T21:38:51.955052Z",
     "start_time": "2025-11-01T21:38:51.596591Z"
    }
   },
   "source": [
    "from sklearn.model_selection import train_test_split\n",
    "\n",
    "print(\"Creazione validation set (20% del training set)...\\n\")\n",
    "\n",
    "# Split training in train e validation (stratificato)\n",
    "X_train_final, X_val, y_train_final, y_val = train_test_split(\n",
    "    X_train, y_train,\n",
    "    test_size=0.2,\n",
    "    stratify=y_train,\n",
    "    random_state=42\n",
    ")\n",
    "\n",
    "print(f\"X_train_final: {X_train_final.shape}\")\n",
    "print(f\"X_val:         {X_val.shape}\")\n",
    "print(f\"X_test:        {X_test.shape}\")\n",
    "\n",
    "print(f\"\\nDistribuzione y_train_final:\")\n",
    "print(y_train_final.value_counts(normalize=True))\n",
    "print(f\"\\nDistribuzione y_val:\")\n",
    "print(y_val.value_counts(normalize=True))\n",
    "\n",
    "print(\"\\n✅ Validation set creato. Verrà usato per monitorare il training.\")\n",
    "\n",
    "# Standardizzazione DOPO lo split (importante per NN)\n",
    "scaler = StandardScaler()\n",
    "X_train_scaled = scaler.fit_transform(X_train_final)\n",
    "X_val_scaled = scaler.transform(X_val)\n",
    "X_test_scaled = scaler.transform(X_test)\n",
    "\n",
    "print(\"\\n✅ Dati standardizzati\")\n",
    "print(f\"   Train: {X_train_scaled.shape}\")\n",
    "print(f\"   Val:   {X_val_scaled.shape}\")\n",
    "print(f\"   Test:  {X_test_scaled.shape}\")"
   ],
   "outputs": [
    {
     "name": "stdout",
     "output_type": "stream",
     "text": [
      "Creazione validation set (20% del training set)...\n",
      "\n",
      "X_train_final: (243878, 43)\n",
      "X_val:         (60970, 43)\n",
      "X_test:        (149537, 43)\n",
      "\n",
      "Distribuzione y_train_final:\n",
      "BinaryIncidentGrade\n",
      "0    0.5\n",
      "1    0.5\n",
      "Name: proportion, dtype: float64\n",
      "\n",
      "Distribuzione y_val:\n",
      "BinaryIncidentGrade\n",
      "1    0.5\n",
      "0    0.5\n",
      "Name: proportion, dtype: float64\n",
      "\n",
      "✅ Validation set creato. Verrà usato per monitorare il training.\n",
      "\n",
      "✅ Dati standardizzati\n",
      "   Train: (243878, 43)\n",
      "   Val:   (60970, 43)\n",
      "   Test:  (149537, 43)\n"
     ]
    }
   ],
   "execution_count": 15
  },
  {
   "cell_type": "markdown",
   "id": "802b7312",
   "metadata": {},
   "source": [
    "## 2.1. Creazione Validation Set"
   ]
  },
  {
   "cell_type": "markdown",
   "id": "b91eefca",
   "metadata": {},
   "source": [
    "## 3. Calcolo Class Weights"
   ]
  },
  {
   "cell_type": "code",
   "id": "89f9cb0c",
   "metadata": {
    "ExecuteTime": {
     "end_time": "2025-11-01T21:38:51.973244Z",
     "start_time": "2025-11-01T21:38:51.962630Z"
    }
   },
   "source": [
    "# Calcola class weights per bilanciare loss (su train_final)\n",
    "class_counts = y_train_final.value_counts().sort_index()\n",
    "total = len(y_train_final)\n",
    "\n",
    "# Weight inversamente proporzionale alla frequenza\n",
    "weight_class_0 = total / (2 * class_counts[0])\n",
    "weight_class_1 = total / (2 * class_counts[1])\n",
    "\n",
    "class_weights = torch.tensor([weight_class_1], dtype=torch.float32).to(device)\n",
    "\n",
    "print(f\"Class 0 weight: {weight_class_0:.4f}\")\n",
    "print(f\"Class 1 weight: {weight_class_1:.4f} (pos_weight per BCEWithLogitsLoss)\")\n",
    "print(f\"\\nRatio: {weight_class_1/weight_class_0:.2f}x più peso alla classe minoritaria\")"
   ],
   "outputs": [
    {
     "name": "stdout",
     "output_type": "stream",
     "text": [
      "Class 0 weight: 1.0000\n",
      "Class 1 weight: 1.0000 (pos_weight per BCEWithLogitsLoss)\n",
      "\n",
      "Ratio: 1.00x più peso alla classe minoritaria\n"
     ]
    }
   ],
   "execution_count": 16
  },
  {
   "cell_type": "markdown",
   "id": "ffb95254",
   "metadata": {},
   "source": [
    "## 4. Preparazione DataLoaders"
   ]
  },
  {
   "cell_type": "code",
   "id": "a20d2637",
   "metadata": {
    "ExecuteTime": {
     "end_time": "2025-11-01T21:38:52.006278Z",
     "start_time": "2025-11-01T21:38:51.973244Z"
    }
   },
   "source": [
    "# Converti a tensori PyTorch\n",
    "X_train_tensor = torch.tensor(X_train_scaled, dtype=torch.float32)\n",
    "y_train_tensor = torch.tensor(y_train_final.values, dtype=torch.float32).unsqueeze(1)\n",
    "X_val_tensor = torch.tensor(X_val_scaled, dtype=torch.float32)\n",
    "y_val_tensor = torch.tensor(y_val.values, dtype=torch.float32).unsqueeze(1)\n",
    "X_test_tensor = torch.tensor(X_test_scaled, dtype=torch.float32)\n",
    "y_test_tensor = torch.tensor(y_test.values, dtype=torch.float32).unsqueeze(1)\n",
    "\n",
    "# DataLoaders\n",
    "train_dataset = TensorDataset(X_train_tensor, y_train_tensor)\n",
    "val_dataset = TensorDataset(X_val_tensor, y_val_tensor)\n",
    "test_dataset = TensorDataset(X_test_tensor, y_test_tensor)\n",
    "\n",
    "train_loader = DataLoader(train_dataset, batch_size=512, shuffle=True)\n",
    "val_loader = DataLoader(val_dataset, batch_size=512, shuffle=False)\n",
    "test_loader = DataLoader(test_dataset, batch_size=512, shuffle=False)\n",
    "\n",
    "print(f\"Train batches: {len(train_loader)}\")\n",
    "print(f\"Val batches:   {len(val_loader)}\")\n",
    "print(f\"Test batches:  {len(test_loader)}\")"
   ],
   "outputs": [
    {
     "name": "stdout",
     "output_type": "stream",
     "text": [
      "Train batches: 477\n",
      "Val batches:   120\n",
      "Test batches:  293\n"
     ]
    }
   ],
   "execution_count": 17
  },
  {
   "cell_type": "markdown",
   "id": "d65f6d5f",
   "metadata": {},
   "source": [
    "## 5. Definizione Modello MLP"
   ]
  },
  {
   "cell_type": "code",
   "id": "fd744732",
   "metadata": {
    "ExecuteTime": {
     "end_time": "2025-11-01T21:38:52.024375Z",
     "start_time": "2025-11-01T21:38:52.007739Z"
    }
   },
   "source": [
    "class MLP(nn.Module):\n",
    "    def __init__(self, input_dim, dropout=0.3):\n",
    "        super(MLP, self).__init__()\n",
    "        self.network = nn.Sequential(\n",
    "            nn.Linear(input_dim, 128),\n",
    "            nn.ReLU(),\n",
    "            nn.BatchNorm1d(128),\n",
    "            nn.Dropout(dropout),\n",
    "            \n",
    "            nn.Linear(128, 64),\n",
    "            nn.ReLU(),\n",
    "            nn.BatchNorm1d(64),\n",
    "            nn.Dropout(dropout),\n",
    "            \n",
    "            nn.Linear(64, 32),\n",
    "            nn.ReLU(),\n",
    "            nn.BatchNorm1d(32),\n",
    "            nn.Dropout(dropout),\n",
    "            \n",
    "            nn.Linear(32, 1)\n",
    "        )\n",
    "    \n",
    "    def forward(self, x):\n",
    "        return self.network(x)\n",
    "\n",
    "# Inizializza modello\n",
    "input_dim = X_train_scaled.shape[1]\n",
    "model = MLP(input_dim, dropout=0.3).to(device)\n",
    "\n",
    "# Loss con class weights\n",
    "criterion = nn.BCEWithLogitsLoss(pos_weight=class_weights)\n",
    "optimizer = optim.Adam(model.parameters(), lr=0.001)\n",
    "\n",
    "print(model)\n",
    "print(f\"\\nTotal parameters: {sum(p.numel() for p in model.parameters()):,}\")"
   ],
   "outputs": [
    {
     "name": "stdout",
     "output_type": "stream",
     "text": [
      "MLP(\n",
      "  (network): Sequential(\n",
      "    (0): Linear(in_features=43, out_features=128, bias=True)\n",
      "    (1): ReLU()\n",
      "    (2): BatchNorm1d(128, eps=1e-05, momentum=0.1, affine=True, track_running_stats=True)\n",
      "    (3): Dropout(p=0.3, inplace=False)\n",
      "    (4): Linear(in_features=128, out_features=64, bias=True)\n",
      "    (5): ReLU()\n",
      "    (6): BatchNorm1d(64, eps=1e-05, momentum=0.1, affine=True, track_running_stats=True)\n",
      "    (7): Dropout(p=0.3, inplace=False)\n",
      "    (8): Linear(in_features=64, out_features=32, bias=True)\n",
      "    (9): ReLU()\n",
      "    (10): BatchNorm1d(32, eps=1e-05, momentum=0.1, affine=True, track_running_stats=True)\n",
      "    (11): Dropout(p=0.3, inplace=False)\n",
      "    (12): Linear(in_features=32, out_features=1, bias=True)\n",
      "  )\n",
      ")\n",
      "\n",
      "Total parameters: 16,449\n"
     ]
    }
   ],
   "execution_count": 18
  },
  {
   "cell_type": "markdown",
   "id": "4821b850",
   "metadata": {},
   "source": [
    "## 6. Training Loop"
   ]
  },
  {
   "cell_type": "code",
   "id": "32235f5c",
   "metadata": {
    "ExecuteTime": {
     "end_time": "2025-11-01T21:41:46.529733Z",
     "start_time": "2025-11-01T21:38:52.035706Z"
    }
   },
   "source": [
    "def train_epoch(model, loader, criterion, optimizer, device):\n",
    "    model.train()\n",
    "    total_loss = 0\n",
    "    for X_batch, y_batch in loader:\n",
    "        X_batch, y_batch = X_batch.to(device), y_batch.to(device)\n",
    "        \n",
    "        optimizer.zero_grad()\n",
    "        outputs = model(X_batch)\n",
    "        loss = criterion(outputs, y_batch)\n",
    "        loss.backward()\n",
    "        optimizer.step()\n",
    "        \n",
    "        total_loss += loss.item()\n",
    "    return total_loss / len(loader)\n",
    "\n",
    "def evaluate(model, loader, device):\n",
    "    model.eval()\n",
    "    all_preds = []\n",
    "    all_probs = []\n",
    "    all_labels = []\n",
    "    \n",
    "    with torch.no_grad():\n",
    "        for X_batch, y_batch in loader:\n",
    "            X_batch = X_batch.to(device)\n",
    "            outputs = model(X_batch)\n",
    "            probs = torch.sigmoid(outputs).cpu().numpy()\n",
    "            preds = (probs >= 0.5).astype(int)\n",
    "            \n",
    "            all_probs.extend(probs)\n",
    "            all_preds.extend(preds)\n",
    "            all_labels.extend(y_batch.numpy())\n",
    "    \n",
    "    return np.array(all_labels).flatten(), np.array(all_preds).flatten(), np.array(all_probs).flatten()\n",
    "\n",
    "# Training\n",
    "print(\"Training MLP...\\n\")\n",
    "n_epochs = 50\n",
    "train_losses = []\n",
    "val_aucs = []\n",
    "\n",
    "for epoch in range(n_epochs):\n",
    "    train_loss = train_epoch(model, train_loader, criterion, optimizer, device)\n",
    "    train_losses.append(train_loss)\n",
    "    \n",
    "    if (epoch + 1) % 5 == 0:\n",
    "        # Valuta su validation set (non test!)\n",
    "        y_val_true, y_val_pred, y_val_probs = evaluate(model, val_loader, device)\n",
    "        val_auc = roc_auc_score(y_val_true, y_val_probs)\n",
    "        val_aucs.append(val_auc)\n",
    "        print(f\"Epoch {epoch+1}/{n_epochs} - Loss: {train_loss:.4f} - Val AUC: {val_auc:.4f}\")\n",
    "\n",
    "print(\"\\n✅ Training completato!\")\n",
    "print(\"⚠️ Il validation set è stato usato solo per monitorare il training.\")\n",
    "print(\"   Il test set rimane intoccato per la valutazione finale.\")"
   ],
   "outputs": [
    {
     "name": "stdout",
     "output_type": "stream",
     "text": [
      "Training MLP...\n",
      "\n",
      "Epoch 5/50 - Loss: 0.4149 - Val AUC: 0.9087\n",
      "Epoch 10/50 - Loss: 0.3680 - Val AUC: 0.9195\n",
      "Epoch 15/50 - Loss: 0.3549 - Val AUC: 0.9246\n",
      "Epoch 20/50 - Loss: 0.3476 - Val AUC: 0.9263\n",
      "Epoch 25/50 - Loss: 0.3447 - Val AUC: 0.9279\n",
      "Epoch 30/50 - Loss: 0.3432 - Val AUC: 0.9270\n",
      "Epoch 35/50 - Loss: 0.3406 - Val AUC: 0.9266\n",
      "Epoch 40/50 - Loss: 0.3384 - Val AUC: 0.9277\n",
      "Epoch 45/50 - Loss: 0.3381 - Val AUC: 0.9287\n",
      "Epoch 50/50 - Loss: 0.3371 - Val AUC: 0.9287\n",
      "\n",
      "✅ Training completato!\n",
      "⚠️ Il validation set è stato usato solo per monitorare il training.\n",
      "   Il test set rimane intoccato per la valutazione finale.\n"
     ]
    }
   ],
   "execution_count": 19
  },
  {
   "cell_type": "markdown",
   "id": "832d25c9",
   "metadata": {},
   "source": [
    "## 7. Training Curve"
   ]
  },
  {
   "cell_type": "code",
   "id": "99800e8f",
   "metadata": {
    "ExecuteTime": {
     "end_time": "2025-11-01T21:41:46.803261Z",
     "start_time": "2025-11-01T21:41:46.682685Z"
    }
   },
   "source": [
    "plt.figure(figsize=(10, 6))\n",
    "plt.plot(range(1, n_epochs+1), train_losses, marker='o', color='blue')\n",
    "plt.xlabel('Epoch', fontsize=12)\n",
    "plt.ylabel('Loss', fontsize=12)\n",
    "plt.title('Training Loss Curve', fontsize=14, fontweight='bold')\n",
    "plt.grid(alpha=0.3)\n",
    "plt.tight_layout()\n",
    "plt.show()"
   ],
   "outputs": [
    {
     "data": {
      "text/plain": [
       "<Figure size 1000x600 with 1 Axes>"
      ],
      "image/png": "[encoded data removed]"
     },
     "metadata": {},
     "output_type": "display_data",
     "jetTransient": {
      "display_id": null
     }
    }
   ],
   "execution_count": 20
  },
  {
   "cell_type": "markdown",
   "id": "82caf9f5",
   "metadata": {},
   "source": [
    "## 8. Evaluation"
   ]
  },
  {
   "cell_type": "code",
   "id": "cf669848",
   "metadata": {
    "ExecuteTime": {
     "end_time": "2025-11-01T21:41:48.146087Z",
     "start_time": "2025-11-01T21:41:46.806332Z"
    }
   },
   "source": [
    "y_true, y_pred, y_probs = evaluate(model, test_loader, device)\n",
    "\n",
    "print(\"=\"*70)\n",
    "print(\"PERFORMANCE TEST SET - MLP\")\n",
    "print(\"=\"*70)\n",
    "\n",
    "print(\"\\nClassification Report:\")\n",
    "print(classification_report(y_true, y_pred, \n",
    "                           target_names=['Non-TP', 'TP'], digits=4))\n",
    "\n",
    "precision = precision_score(y_true, y_pred)\n",
    "recall = recall_score(y_true, y_pred)\n",
    "f1 = f1_score(y_true, y_pred)\n",
    "roc_auc = roc_auc_score(y_true, y_probs)\n",
    "\n",
    "print(f\"\\nPRECISION: {precision:.4f}\")\n",
    "print(f\"RECALL:    {recall:.4f}\")\n",
    "print(f\"F1-SCORE:  {f1:.4f}\")\n",
    "print(f\"ROC AUC:   {roc_auc:.4f} ⭐\")"
   ],
   "outputs": [
    {
     "name": "stdout",
     "output_type": "stream",
     "text": [
      "======================================================================\n",
      "PERFORMANCE TEST SET - MLP\n",
      "======================================================================\n",
      "\n",
      "Classification Report:\n",
      "              precision    recall  f1-score   support\n",
      "\n",
      "      Non-TP     0.8976    0.9166    0.9070    105987\n",
      "          TP     0.7860    0.7456    0.7653     43550\n",
      "\n",
      "    accuracy                         0.8668    149537\n",
      "   macro avg     0.8418    0.8311    0.8361    149537\n",
      "weighted avg     0.8651    0.8668    0.8657    149537\n",
      "\n",
      "\n",
      "PRECISION: 0.7860\n",
      "RECALL:    0.7456\n",
      "F1-SCORE:  0.7653\n",
      "ROC AUC:   0.9201 ⭐\n"
     ]
    }
   ],
   "execution_count": 21
  },
  {
   "cell_type": "markdown",
   "id": "f52d5881",
   "metadata": {},
   "source": [
    "## 9. Confusion Matrix"
   ]
  },
  {
   "cell_type": "code",
   "id": "e6a3a605",
   "metadata": {
    "ExecuteTime": {
     "end_time": "2025-11-01T21:41:48.747792Z",
     "start_time": "2025-11-01T21:41:48.233911Z"
    }
   },
   "source": [
    "cm = confusion_matrix(y_true, y_pred)\n",
    "cm_norm = cm.astype('float') / cm.sum(axis=1)[:, np.newaxis]\n",
    "\n",
    "fig, axes = plt.subplots(1, 2, figsize=(16, 6))\n",
    "\n",
    "sns.heatmap(cm, annot=True, fmt='d', cmap='Blues',\n",
    "            xticklabels=['Non-TP', 'TP'],\n",
    "            yticklabels=['Non-TP', 'TP'], ax=axes[0])\n",
    "axes[0].set_title('Confusion Matrix (Counts)', fontweight='bold')\n",
    "axes[0].set_ylabel('True')\n",
    "axes[0].set_xlabel('Predicted')\n",
    "\n",
    "sns.heatmap(cm_norm, annot=True, fmt='.2%', cmap='Blues',\n",
    "            xticklabels=['Non-TP', 'TP'],\n",
    "            yticklabels=['Non-TP', 'TP'], ax=axes[1])\n",
    "axes[1].set_title('Confusion Matrix (Normalized)', fontweight='bold')\n",
    "axes[1].set_ylabel('True')\n",
    "axes[1].set_xlabel('Predicted')\n",
    "\n",
    "plt.tight_layout()\n",
    "plt.show()"
   ],
   "outputs": [
    {
     "data": {
      "text/plain": [
       "<Figure size 1600x600 with 4 Axes>"
      ],
      "image/png": "[encoded data removed]"
     },
     "metadata": {},
     "output_type": "display_data",
     "jetTransient": {
      "display_id": null
     }
    }
   ],
   "execution_count": 22
  },
  {
   "cell_type": "markdown",
   "id": "740decb7",
   "metadata": {},
   "source": [
    "## 10. ROC Curve"
   ]
  },
  {
   "cell_type": "code",
   "id": "f628cfc7",
   "metadata": {
    "ExecuteTime": {
     "end_time": "2025-11-01T21:41:48.904729Z",
     "start_time": "2025-11-01T21:41:48.752438Z"
    }
   },
   "source": [
    "fpr, tpr, _ = roc_curve(y_true, y_probs)\n",
    "\n",
    "plt.figure(figsize=(10, 8))\n",
    "plt.plot(fpr, tpr, color='blue', lw=2, label=f'MLP (AUC = {roc_auc:.4f})')\n",
    "plt.plot([0, 1], [0, 1], 'k--', lw=1, label='Random')\n",
    "plt.xlim([0.0, 1.0])\n",
    "plt.ylim([0.0, 1.05])\n",
    "plt.xlabel('False Positive Rate', fontsize=12)\n",
    "plt.ylabel('True Positive Rate', fontsize=12)\n",
    "plt.title('ROC Curve - MLP', fontsize=14, fontweight='bold')\n",
    "plt.legend(loc=\"lower right\")\n",
    "plt.grid(alpha=0.3)\n",
    "plt.tight_layout()\n",
    "plt.show()"
   ],
   "outputs": [
    {
     "data": {
      "text/plain": [
       "<Figure size 1000x800 with 1 Axes>"
      ],
      "image/png": "[encoded data removed]"
     },
     "metadata": {},
     "output_type": "display_data",
     "jetTransient": {
      "display_id": null
     }
    }
   ],
   "execution_count": 23
  },
  {
   "cell_type": "markdown",
   "id": "6048b31a",
   "metadata": {},
   "source": [
    "## Summary\n",
    "\n",
    "**Architettura:** MLP [128 → 64 → 32] con Dropout e BatchNorm\n",
    "\n",
    "**Bilanciamento:** Class weights in loss function (no SMOTE per efficienza)\n",
    "\n",
    "**Accelerazione:** Metal Performance Shaders (MPS) su Apple Silicon\n",
    "\n",
    "**Vantaggi NN:**\n",
    "- ✅ Cattura relazioni non-lineari complesse\n",
    "- ✅ Scalabile a dataset grandi\n",
    "- ✅ Batch normalization stabilizza training\n",
    "\n",
    "**Tuning possibile:**\n",
    "- Aumentare epochs con early stopping\n",
    "- Learning rate scheduling\n",
    "- Architettura più profonda/larga"
   ]
  },
  {
   "cell_type": "code",
   "id": "a47bd10a",
   "metadata": {
    "ExecuteTime": {
     "end_time": "2025-11-01T21:44:55.451463Z",
     "start_time": "2025-11-01T21:44:55.432724Z"
    }
   },
   "source": [
    "import os\n",
    "import json\n",
    "from pathlib import Path\n",
    "from datetime import datetime\n",
    "from sklearn.metrics import accuracy_score\n",
    "\n",
    "# Crea directory per il modello\n",
    "model_dir = Path('../models/mlp_baseline')\n",
    "model_dir.mkdir(parents=True, exist_ok=True)\n",
    "\n",
    "# Salva modello PyTorch (checkpoint completo)\n",
    "model_path = model_dir / 'model.pth'\n",
    "torch.save({\n",
    "    'model_state_dict': model.state_dict(),\n",
    "    'optimizer_state_dict': optimizer.state_dict(),\n",
    "    'input_dim': input_dim,\n",
    "    'dropout': 0.3,\n",
    "    'n_epochs': n_epochs,\n",
    "    'final_loss': train_losses[-1],\n",
    "    'pos_weight': float(class_weights[0].item())\n",
    "}, model_path)\n",
    "\n",
    "print(f\"✅ Modello salvato: {model_path}\")\n",
    "\n",
    "# Salva solo i pesi (più leggero)\n",
    "weights_path = model_dir / 'model_weights.pth'\n",
    "torch.save(model.state_dict(), weights_path)\n",
    "print(f\"✅ Pesi salvati: {weights_path}\")"
   ],
   "outputs": [
    {
     "name": "stdout",
     "output_type": "stream",
     "text": [
      "✅ Modello salvato: ..\\models\\mlp_baseline\\model.pth\n",
      "✅ Pesi salvati: ..\\models\\mlp_baseline\\model_weights.pth\n"
     ]
    }
   ],
   "execution_count": 25
  },
  {
   "metadata": {
    "ExecuteTime": {
     "end_time": "2025-11-01T21:44:58.096851Z",
     "start_time": "2025-11-01T21:44:58.014438Z"
    }
   },
   "cell_type": "code",
   "source": [
    "import json\n",
    "from sklearn.metrics import accuracy_score\n",
    "\n",
    "# Calcola metriche dettagliate per ogni classe\n",
    "precision_0 = precision_score(y_true, y_pred, pos_label=0)\n",
    "recall_0 = recall_score(y_true, y_pred, pos_label=0)\n",
    "f1_0 = f1_score(y_true, y_pred, pos_label=0)\n",
    "\n",
    "precision_1 = precision_score(y_true, y_pred, pos_label=1)\n",
    "recall_1 = recall_score(y_true, y_pred, pos_label=1)\n",
    "f1_1 = f1_score(y_true, y_pred, pos_label=1)\n",
    "\n",
    "# Salva metriche in JSON\n",
    "metrics = {\n",
    "    \"model_name\": \"MLP_Baseline\",\n",
    "    \"timestamp\": datetime.now().isoformat(),\n",
    "    \"dataset_version\": \"processed_v3_balanced\",\n",
    "    \"class_balancing\": \"Class weights in loss function\",\n",
    "    \"architecture\": {\n",
    "        \"input_dim\": input_dim,\n",
    "        \"hidden_layers\": [128, 64, 32],\n",
    "        \"dropout\": 0.3,\n",
    "        \"activation\": \"ReLU\",\n",
    "        \"output_activation\": \"Sigmoid\"\n",
    "    },\n",
    "    \"training\": {\n",
    "        \"n_epochs\": n_epochs,\n",
    "        \"batch_size\": 512,\n",
    "        \"optimizer\": \"Adam\",\n",
    "        \"learning_rate\": 0.005,\n",
    "        \"loss_function\": \"BCEWithLogitsLoss\",\n",
    "        \"pos_weight\": float(class_weights[0].item()),\n",
    "        \"device\": str(device)\n",
    "    },\n",
    "    \"data\": {\n",
    "        \"n_train_samples\": len(y_train_final),\n",
    "        \"n_val_samples\": len(y_val),\n",
    "        \"n_test_samples\": len(y_test),\n",
    "        \"n_features\": input_dim,\n",
    "        \"class_distribution_train\": {\n",
    "            \"class_0\": int((y_train_final == 0).sum()),\n",
    "            \"class_1\": int((y_train_final == 1).sum())\n",
    "        }\n",
    "    },\n",
    "    \"test_metrics\": {\n",
    "        \"accuracy\": float(accuracy_score(y_true, y_pred)),\n",
    "        \"precision\": float(precision),\n",
    "        \"recall\": float(recall),\n",
    "        \"f1_score\": float(f1),\n",
    "        \"roc_auc\": float(roc_auc)\n",
    "    },\n",
    "    \"per_class_metrics\": {\n",
    "        \"class_0_non_tp\": {\n",
    "            \"precision\": float(precision_0),\n",
    "            \"recall\": float(recall_0),\n",
    "            \"f1_score\": float(f1_0)\n",
    "        },\n",
    "        \"class_1_tp\": {\n",
    "            \"precision\": float(precision_1),\n",
    "            \"recall\": float(recall_1),\n",
    "            \"f1_score\": float(f1_1)\n",
    "        }\n",
    "    },\n",
    "    \"confusion_matrix\": {\n",
    "        \"true_negatives\": int(cm[0, 0]),\n",
    "        \"false_positives\": int(cm[0, 1]),\n",
    "        \"false_negatives\": int(cm[1, 0]),\n",
    "        \"true_positives\": int(cm[1, 1])\n",
    "    },\n",
    "    \"training_history\": {\n",
    "        \"final_loss\": float(train_losses[-1]),\n",
    "        \"min_loss\": float(min(train_losses)),\n",
    "        \"loss_history\": [float(loss) for loss in train_losses]\n",
    "    },\n",
    "    \"note\": \"Validation set (20% of train) used for monitoring during training. Test set used only for final evaluation.\"\n",
    "}\n",
    "\n",
    "metrics_path = model_dir / 'metrics.json'\n",
    "with open(metrics_path, 'w') as f:\n",
    "    json.dump(metrics, f, indent=2)\n",
    "\n",
    "print(f\"✅ Metriche salvate: {metrics_path}\")\n",
    "\n",
    "print(f\"\\n{'='*60}\")\n",
    "print(\"RIEPILOGO SALVATAGGIO\")\n",
    "print(f\"{'='*60}\")\n",
    "print(f\"Directory: {model_dir}\")\n",
    "print(f\"  - model.pth (modello completo)\")\n",
    "print(f\"  - model_weights.pth (solo pesi)\")\n",
    "print(f\"  - metrics.json (metriche)\")\n",
    "print(f\"{'='*60}\")"
   ],
   "id": "527cdc2e047fb6b3",
   "outputs": [
    {
     "name": "stdout",
     "output_type": "stream",
     "text": [
      "✅ Metriche salvate: ..\\models\\mlp_baseline\\metrics.json\n",
      "\n",
      "============================================================\n",
      "RIEPILOGO SALVATAGGIO\n",
      "============================================================\n",
      "Directory: ..\\models\\mlp_baseline\n",
      "  - model.pth (modello completo)\n",
      "  - model_weights.pth (solo pesi)\n",
      "  - metrics.json (metriche)\n",
      "============================================================\n"
     ]
    }
   ],
   "execution_count": 26
  },
  {
   "cell_type": "markdown",
   "id": "7ff9e4eb",
   "metadata": {},
   "source": [
    "## 11. Salvataggio Modello e Metriche"
   ]
  }
 ],
 "metadata": {
  "kernelspec": {
   "display_name": "Python 3 (ipykernel)",
   "language": "python",
   "name": "python3"
  },
  "language_info": {
   "name": "python"
  }
 },
 "nbformat": 4,
 "nbformat_minor": 5
}
