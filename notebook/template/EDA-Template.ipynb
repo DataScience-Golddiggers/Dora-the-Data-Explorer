{
 "cells": [
  {
   "cell_type": "markdown",
   "metadata": {},
   "source": [
    "# Analisi Esplorativa dei Dati (EDA) - Template"
   ]
  },
  {
   "cell_type": "markdown",
   "metadata": {},
   "source": [
    "Questo notebook serve come template di base per eseguire un'analisi esplorativa (EDA) su un nuovo dataset.\n",
    "\n",
    "**Obiettivi dell'EDA:**\n",
    "1.  Comprendere la struttura del dataset.\n",
    "2.  Identificare dati mancanti, duplicati o anomali.\n",
    "3.  Analizzare la distribuzione delle singole variabili (Analisi Univariata).\n",
    "4.  Esplorare le relazioni tra le variabili (Analisi Bivariata/Multivariata).\n",
    "5.  Ricavare insight iniziali e formulare ipotesi."
   ]
  },
  {
   "cell_type": "markdown",
   "metadata": {},
   "source": [
    "## 1. Setup: Importare le Librerie"
   ]
  },
  {
   "cell_type": "code",
   "execution_count": null,
   "metadata": {},
   "outputs": [],
   "source": [
    "import pandas as pd\n",
    "import numpy as np\n",
    "import matplotlib.pyplot as plt\n",
    "import seaborn as sns\n",
    "\n",
    "# Impostazioni per una migliore visualizzazione\n",
    "%matplotlib inline\n",
    "sns.set_style('whitegrid')\n",
    "plt.rcParams['figure.figsize'] = (10, 6)"
   ]
  },
  {
   "cell_type": "markdown",
   "metadata": {},
   "source": [
    "## 2. Caricamento Dati"
   ]
  },
  {
   "cell_type": "code",
   "execution_count": null,
   "metadata": {},
   "outputs": [],
   "source": [
    "# Sostituisci 'IL_TUO_DATASET.csv' con il percorso al tuo file\n",
    "# Se hai un Excel, usa pd.read_excel()\n",
    "try:\n",
    "    file_path = 'IL_TUO_DATASET.csv' \n",
    "    df = pd.read_csv(file_path)\n",
    "except FileNotFoundError:\n",
    "    print(\"File non trovato. Assicurati che il percorso sia corretto.\")\n",
    "    # Come fallback, creo un dataset di esempio per far funzionare il resto del notebook\n",
    "    data = {\n",
    "        'eta': [25, 30, np.nan, 45, 30, 50, 22, 35, 40, 28],\n",
    "        'genere': ['M', 'F', 'M', 'F', 'M', 'F', 'M', 'F', 'M', 'F'],\n",
    "        'punteggio': [85, 90, 78, 92, 78, 88, 76, 95, 82, 89],\n",
    "        'citta': ['Roma', 'Milano', 'Roma', 'Napoli', 'Torino', 'Milano', 'Roma', 'Napoli', 'Milano', 'Torino'],\n",
    "        'target': [1, 0, 0, 1, 0, 1, 0, 1, 1, 0]\n",
    "    }\n",
    "    df = pd.DataFrame(data)\n",
    "    print(\"\\n--- Creato dataset di esempio --- \")"
   ]
  },
  {
   "cell_type": "markdown",
   "metadata": {},
   "source": [
    "## 3. Ispezione Iniziale (Visione d'Insieme)"
   ]
  },
  {
   "cell_type": "markdown",
   "metadata": {},
   "source": [
    "### 3.1 Dimensioni del Dataset"
   ]
  },
  {
   "cell_type": "code",
   "execution_count": null,
   "metadata": {},
   "outputs": [],
   "source": [
    "print(f\"Il dataset ha {df.shape[0]} righe e {df.shape[1]} colonne.\")"
   ]
  },
  {
   "cell_type": "markdown",
   "metadata": {},
   "source": [
    "### 3.2 Anteprima dei Dati"
   ]
  },
  {
   "cell_type": "code",
   "execution_count": null,
   "metadata": {},
   "outputs": [],
   "source": [
    "# Visualizza le prime 5 righe\n",
    "df.head()"
   ]
  },
  {
   "cell_type": "code",
   "execution_count": null,
   "metadata": {},
   "outputs": [],
   "source": [
    "# Visualizza le ultime 5 righe\n",
    "df.tail()"
   ]
  },
  {
   "cell_type": "markdown",
   "metadata": {},
   "source": [
    "### 3.3 Tipi di Dati e Valori Mancanti (Sintesi)"
   ]
  },
  {
   "cell_type": "code",
   "execution_count": null,
   "metadata": {},
   "outputs": [],
   "source": [
    "# Ottiene informazioni sui tipi di colonna (Dtypes) e sui valori non nulli\n",
    "df.info()"
   ]
  },
  {
   "cell_type": "markdown",
   "metadata": {},
   "source": [
    "### 3.4 Statistiche Descrittive"
   ]
  },
  {
   "cell_type": "code",
   "execution_count": null,
   "metadata": {},
   "outputs": [],
   "source": [
    "# Statistiche descrittive per le colonne numeriche\n",
    "# (conteggio, media, deviazione standard, min, max, percentili)\n",
    "df.describe()"
   ]
  },
  {
   "cell_type": "code",
   "execution_count": null,
   "metadata": {},
   "outputs": [],
   "source": [
    "# Statistiche descrittive per le colonne categoriche (tipo 'object')\n",
    "# (conteggio, valori unici, valore più frequente, frequenza)\n",
    "df.describe(include=['object'])"
   ]
  },
  {
   "cell_type": "markdown",
   "metadata": {},
   "source": [
    "## 4. Pulizia Dati (Gestione Missing e Duplicati)"
   ]
  },
  {
   "cell_type": "markdown",
   "metadata": {},
   "source": [
    "### 4.1 Valori Mancanti (NaN)"
   ]
  },
  {
   "cell_type": "code",
   "execution_count": null,
   "metadata": {},
   "outputs": [],
   "source": [
    "# Controlla il numero (e la percentuale) di valori mancanti per colonna\n",
    "missing_values = df.isnull().sum()\n",
    "missing_percent = (missing_values / len(df)) * 100\n",
    "\n",
    "pd.DataFrame({'Conteggio Mancanti': missing_values, 'Percentuale (%)': missing_percent}).sort_values(by='Percentuale (%)', ascending=False)"
   ]
  },
  {
   "cell_type": "markdown",
   "metadata": {},
   "source": [
    "**Strategie (da affinare):**\n",
    "* **Drop:** Se i valori mancanti sono pochi (es. <5%) o se una colonna è quasi tutta vuota, si può eliminare (`df.dropna()`).\n",
    "* **Imputazione (Numerici):** Sostituire con media, mediana (`df['colonna'].fillna(df['colonna'].median())`).\n",
    "* **Imputazione (Categorici):** Sostituire con la moda (valore più frequente) (`df['colonna'].fillna(df['colonna'].mode()[0])`)."
   ]
  },
  {
   "cell_type": "markdown",
   "metadata": {},
   "source": [
    "### 4.2 Dati Duplicati"
   ]
  },
  {
   "cell_type": "code",
   "execution_count": null,
   "metadata": {},
   "outputs": [],
   "source": [
    "num_duplicati = df.duplicated().sum()\n",
    "print(f\"Ci sono {num_duplicati} righe duplicate nel dataset.\")"
   ]
  },
  {
   "cell_type": "code",
   "execution_count": null,
   "metadata": {},
   "outputs": [],
   "source": [
    "# Esempio per rimuovere duplicati (da decommentare se necessario)\n",
    "# df_pulito = df.drop_duplicates()\n",
    "# print(f\"Dimensioni dopo rimozione duplicati: {df_pulito.shape}\")"
   ]
  },
  {
   "cell_type": "markdown",
   "metadata": {},
   "source": [
    "## 5. Analisi Univariata (Analisi delle singole variabili)"
   ]
  },
  {
   "cell_type": "markdown",
   "metadata": {},
   "source": [
   "Separiamo le colonne numeriche da quelle categoriche per analizzarle con i grafici appropriati."
   ]
  },
  {
   "cell_type": "code",
   "execution_count": null,
   "metadata": {},
   "outputs": [],
   "source": [
   "colonne_numeriche = df.select_dtypes(include=np.number).columns\n",
   "colonne_categoriche = df.select_dtypes(include='object').columns\n",
   "\n",
   "print(\"Colonne Numeriche:\", list(colonne_numeriche))\n",
   "print(\"Colonne Categoriche:\", list(colonne_categoriche))"
   ]
  },
  {
   "cell_type": "markdown",
   "metadata": {},
   "source": [
    "### 5.1 Analisi Variabili Numeriche"
   ]
  },
  {
   "cell_type": "code",
   "execution_count": null,
   "metadata": {},
   "outputs": [],
   "source": [
    "# Plot della distribuzione (Istogramma + KDE) per ogni variabile numerica\n",
    "for col in colonne_numeriche:\n",
    "    plt.figure(figsize=(10, 5))\n",
    "    sns.histplot(df[col], kde=True, bins=30)\n",
    "    plt.title(f'Distribuzione di {col}')\n",
    "    plt.xlabel(col)\n",
    "    plt.ylabel('Frequenza')\n",
    "    plt.show()"
   ]
  },
  {
   "cell_type": "code",
   "execution_count": null,
   "metadata": {},
   "outputs": [],
   "source": [
    "# Boxplot per identificare gli outlier\n",
    "for col in colonne_numeriche:\n",
    "    plt.figure(figsize=(10, 3))\n",
    "    sns.boxplot(x=df[col])\n",
    "    plt.title(f'Boxplot di {col}')\n",
    "    plt.xlabel(col)\n",
    "    plt.show()"
   ]
  },
  {
   "cell_type": "markdown",
   "metadata": {},
   "source": [
    "### 5.2 Analisi Variabili Categoriche"
   ]
  },
  {
   "cell_type": "code",
   "execution_count": null,
   "metadata": {},
   "outputs": [],
   "source": [
    "# Countplot (grafico a barre) per ogni variabile categorica\n",
    "for col in colonne_categoriche:\n",
    "    plt.figure(figsize=(10, 5))\n",
    "    # Usiamo 'y' se ci sono molte categorie o nomi lunghi\n",
    "    sns.countplot(y=col, data=df, order=df[col].value_counts().index)\n",
    "    plt.title(f'Conteggio di {col}')\n",
    "    plt.xlabel('Conteggio')\n",
    "    plt.ylabel(col)\n",
    "    plt.show()"
   ]
  },
  {
   "cell_type": "markdown",
   "metadata": {},
   "source": [
    "## 6. Analisi Bivariata e Multivariata (Relazioni)"
   ]
  },
  {
   "cell_type": "markdown",
   "metadata": {},
   "source": [
    "### 6.1 Matrice di Correlazione (Numerico vs Numerico)"
   ]
  },
  {
   "cell_type": "code",
   "execution_count": null,
   "metadata": {},
   "outputs": [],
   "source": [
    "# Calcoliamo la matrice di correlazione (di Pearson)\n",
    "corr_matrix = df[colonne_numeriche].corr()\n",
    "\n",
    "# Visualizziamo la heatmap\n",
    "plt.figure(figsize=(12, 8))\n",
    "sns.heatmap(corr_matrix, annot=True, cmap='coolwarm', fmt='.2f', linewidths=0.5)\n",
    "plt.title('Matrice di Correlazione Heatmap')\n",
    "plt.show()"
   ]
  },
  {
   "cell_type": "markdown",
   "metadata": {},
   "source": [
    "### 6.2 Pairplot (Visione d'insieme)"
   ]
  },
  {
   "cell_type": "code",
   "execution_count": null,
   "metadata": {},
   "outputs": [],
   "source": [
    "# Scatter plot per ogni coppia di variabili numeriche\n",
    "# Sostituisci 'NOME_COLONNA_TARGET' (es. 'genere' o 'target') per colorare i punti\n",
    "# Se non hai una colonna target chiara, rimuovi 'hue=...'\n",
    "\n",
    "try:\n",
    "    # Prova a usare una colonna categorica o la target per 'hue'\n",
    "    hue_col = 'target' if 'target' in df.columns else (colonne_categoriche[0] if len(colonne_categoriche) > 0 else None)\n",
    "    sns.pairplot(df, hue=hue_col, vars=colonne_numeriche, diag_kind='kde')\n",
    "except Exception as e:\n",
    "    print(f\"Errore nel Pairplot (forse non ci sono colonne numeriche?): {e}\")\n",
    "    # Fallback senza hue se la colonna dà problemi\n",
    "    if 'colonne_numeriche' in locals() and len(colonne_numeriche) > 0:\n",
    "       sns.pairplot(df, vars=colonne_numeriche, diag_kind='kde')\n",
    "\n",
    "plt.suptitle('Pairplot delle variabili numeriche', y=1.02)\n",
    "plt.show()"
   ]
  },
  {
   "cell_type": "markdown",
   "metadata": {},
   "source": [
    "### 6.3 Analisi Categoria vs Numero"
   ]
  },
  {
   "cell_type": "code",
   "execution_count": null,
   "metadata": {},
   "outputs": [],
   "source": [
    "# Esempio: Boxplot raggruppati\n",
    "# Come varia una variabile numerica (es. 'punteggio') al variare di una categorica (es. 'citta')?\n",
    "\n",
    "# Sostituisci 'colonna_categorica_esempio' e 'colonna_numerica_esempio' con i nomi delle tue colonne\n",
    "colonna_categorica_esempio = 'citta' \n",
    "colonna_numerica_esempio = 'punteggio'\n",
    "\n",
    "if colonna_categorica_esempio in df.columns and colonna_numerica_esempio in df.columns:\n",
    "    plt.figure(figsize=(12, 7))\n",
    "    sns.boxplot(x=colonna_categorica_esempio, y=colonna_numerica_esempio, data=df)\n",
    "    plt.title(f'{colonna_numerica_esempio} vs {colonna_categorica_esempio}')\n",
    "    plt.xticks(rotation=45)\n",
    "    plt.show()"
   ]
  },
  {
   "cell_type": "code",
   "execution_count": null,
   "metadata": {},
   "outputs": [],
  "source": [
    "# Esempio: Violin plot (simile al boxplot ma mostra anche la distribuzione)\n",
    "if colonna_categorica_esempio in df.columns and colonna_numerica_esempio in df.columns:\n",
    "    plt.figure(figsize=(12, 7))\n",
    "    sns.violinplot(x=colonna_categorica_esempio, y=colonna_numerica_esempio, data=df)\n",
    "    plt.title(f'Violin Plot: {colonna_numerica_esempio} vs {colonna_categorica_esempio}')\n",
    "    plt.xticks(rotation=45)\n",
    "    plt.show()"
   ]
  },
  {
   "cell_type": "markdown",
   "metadata": {},
   "source": [
    "## 7. Conclusioni Iniziali e Prossimi Passi"
   ]
  },
  {
   "cell_type": "markdown",
   "metadata": {},
   "source": [
    "*(Questa sezione è per le tue note)*\n",
    "\n",
    "**Riassumi qui le tue scoperte:**\n",
    "\n",
    "* **Qualità dei Dati:** (Es: \"La colonna 'età' ha il 10% di valori mancanti, che dovranno essere imputati con la mediana.\")\n",
    "* **Distribuzioni:** (Es: \"La variabile 'punteggio' segue una distribuzione approssimativamente normale.\", \"La 'città' più frequente è Roma.\")\n",
    "* **Outlier:** (Es: \"Sono presenti alcuni outlier significativi nel 'punteggio' che potrebbero richiedere un'indagine.\")\n",
    "* **Correlazioni:** (Es: \"C'è una forte correlazione positiva tra 'punteggio' e 'target' (0.75).\")\n",
    "* **Relazioni:** (Es: \"Gli utenti di Milano sembrano avere un 'punteggio' mediano più alto.\")\n",
    "\n",
    "**Prossimi Passi (Feature Engineering):**\n",
    "\n",
    "* (Es: \"Trasformare la colonna 'citta' in variabili dummy (One-Hot Encoding).\")\n",
    "* (Es: \"Creare una nuova feature 'fascia_eta' raggruppando la colonna 'eta'.\")\n",
    "* (Es: \"Normalizzare/Standardizzare le feature numeriche prima del modeling.\")"
   ]
  }
 ],
 "metadata": {
  "kernelspec": {
   "display_name": "Python 3",
   "language": "python",
   "name": "python3"
  },
  "language_info": {
   "codemirror_mode": {
    "name": "ipython",
    "version": 3
   },
   "file_extension": ".py",
   "mimetype": "text/x-python",
   "name": "python",
   "nbconvert_exporter": "python",
   "pygments_lexer": "ipython3",
   "version": "3.10.0"
  }
 },
 "nbformat": 4,
 "nbformat_minor": 4
}