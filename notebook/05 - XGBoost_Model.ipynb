{
 "cells": [
  {
   "cell_type": "markdown",
   "id": "c870eca5",
   "metadata": {},
   "source": [
    "# Modeling - XGBoost Classifier\n",
    "\n",
    "**Obiettivo:** Classificazione IncidentGrade (TruePositive, BenignPositive, FalsePositive)\n",
    "\n",
    "**Metrica:** Macro F1-Score\n",
    "\n",
    "**Pipeline:**\n",
    "1. Caricamento dati\n",
    "2. Training XGBoost\n",
    "3. Valutazione e cross-validation\n",
    "4. Feature importance\n",
    "5. Salvataggio modello"
   ]
  },
  {
   "cell_type": "markdown",
   "id": "077e8f5b",
   "metadata": {},
   "source": [
    "## 1. Setup"
   ]
  },
  {
   "cell_type": "code",
   "id": "7da0f195",
   "metadata": {
    "ExecuteTime": {
     "end_time": "2025-10-29T11:38:36.889439Z",
     "start_time": "2025-10-29T11:38:36.723981Z"
    }
   },
   "source": [
    "import pandas as pd\n",
    "import numpy as np\n",
    "import matplotlib.pyplot as plt\n",
    "import seaborn as sns\n",
    "import xgboost as xgb\n",
    "from sklearn.metrics import (\n",
    "    classification_report, \n",
    "    confusion_matrix, \n",
    "    f1_score,\n",
    "    accuracy_score\n",
    ")\n",
    "from sklearn.model_selection import cross_val_score, StratifiedKFold\n",
    "from sklearn.preprocessing import LabelEncoder\n",
    "import pickle\n",
    "import os\n",
    "import warnings\n",
    "warnings.filterwarnings('ignore')\n",
    "\n",
    "%matplotlib inline\n",
    "sns.set_style('whitegrid')\n",
    "\n",
    "print(\"Librerie importate con successo!\")"
   ],
   "outputs": [
    {
     "name": "stdout",
     "output_type": "stream",
     "text": [
      "Librerie importate con successo!\n"
     ]
    }
   ],
   "execution_count": 1
  },
  {
   "cell_type": "markdown",
   "id": "268a0264",
   "metadata": {},
   "source": [
    "## 2. Caricamento Dati"
   ]
  },
  {
   "cell_type": "code",
   "id": "214e41aa",
   "metadata": {
    "ExecuteTime": {
     "end_time": "2025-10-29T11:38:38.327466Z",
     "start_time": "2025-10-29T11:38:38.127700Z"
    }
   },
   "source": [
    "print(\"Caricamento dataset processati...\")\n",
    "\n",
    "X_train = pd.read_csv('../data/processed/X_train.csv')\n",
    "X_test = pd.read_csv('../data/processed/X_test.csv')\n",
    "y_train = pd.read_csv('../data/processed/y_train.csv')['IncidentGrade']\n",
    "y_test = pd.read_csv('../data/processed/y_test.csv')['IncidentGrade']\n",
    "\n",
    "print(f\"X_train: {X_train.shape}\")\n",
    "print(f\"X_test: {X_test.shape}\")\n",
    "print(f\"\\nDistribuzione y_train:\\n{y_train.value_counts(normalize=True)}\")"
   ],
   "outputs": [
    {
     "name": "stdout",
     "output_type": "stream",
     "text": [
      "Caricamento dataset processati...\n",
      "X_train: (314230, 22)\n",
      "X_test: (134671, 22)\n",
      "\n",
      "Distribuzione y_train:\n",
      "IncidentGrade\n",
      "BenignPositive    0.485921\n",
      "FalsePositive     0.301088\n",
      "TruePositive      0.212990\n",
      "Name: proportion, dtype: float64\n"
     ]
    }
   ],
   "execution_count": 2
  },
  {
   "cell_type": "code",
   "id": "77f49074",
   "metadata": {
    "ExecuteTime": {
     "end_time": "2025-10-29T11:38:42.100434Z",
     "start_time": "2025-10-29T11:38:42.075049Z"
    }
   },
   "source": [
    "# Encoding target\n",
    "le_target = LabelEncoder()\n",
    "y_train_encoded = le_target.fit_transform(y_train)\n",
    "y_test_encoded = le_target.transform(y_test)\n",
    "\n",
    "print(\"Mapping label:\")\n",
    "for i, label in enumerate(le_target.classes_):\n",
    "    print(f\"  {label} -> {i}\")"
   ],
   "outputs": [
    {
     "name": "stdout",
     "output_type": "stream",
     "text": [
      "Mapping label:\n",
      "  BenignPositive -> 0\n",
      "  FalsePositive -> 1\n",
      "  TruePositive -> 2\n"
     ]
    }
   ],
   "execution_count": 3
  },
  {
   "cell_type": "markdown",
   "id": "d6805cfd",
   "metadata": {},
   "source": [
    "## 3. Training XGBoost"
   ]
  },
  {
   "cell_type": "code",
   "id": "bf9fe3c4",
   "metadata": {
    "ExecuteTime": {
     "end_time": "2025-10-29T11:39:02.420272Z",
     "start_time": "2025-10-29T11:38:59.795106Z"
    }
   },
   "source": [
    "print(\"Training XGBoost...\\n\")\n",
    "\n",
    "model = xgb.XGBClassifier(\n",
    "    objective='multi:softmax',\n",
    "    num_class=len(le_target.classes_),\n",
    "    eval_metric='mlogloss',\n",
    "    max_depth=6,\n",
    "    learning_rate=0.1,\n",
    "    n_estimators=200,\n",
    "    subsample=0.8,\n",
    "    colsample_bytree=0.8,\n",
    "    random_state=42,\n",
    "    tree_method='hist',\n",
    "    n_jobs=-1\n",
    ")\n",
    "\n",
    "model.fit(\n",
    "    X_train, y_train_encoded,\n",
    "    eval_set=[(X_test, y_test_encoded)],\n",
    "    verbose=True\n",
    ")\n",
    "\n",
    "print(\"Training completato!\")"
   ],
   "outputs": [
    {
     "name": "stdout",
     "output_type": "stream",
     "text": [
      "Training XGBoost...\n",
      "\n",
      "[0]\tvalidation_0-mlogloss:1.01083\n",
      "[1]\tvalidation_0-mlogloss:0.96891\n",
      "[2]\tvalidation_0-mlogloss:0.92684\n",
      "[3]\tvalidation_0-mlogloss:0.89240\n",
      "[4]\tvalidation_0-mlogloss:0.87013\n",
      "[5]\tvalidation_0-mlogloss:0.85095\n",
      "[6]\tvalidation_0-mlogloss:0.82616\n",
      "[7]\tvalidation_0-mlogloss:0.80172\n",
      "[8]\tvalidation_0-mlogloss:0.77706\n",
      "[9]\tvalidation_0-mlogloss:0.76016\n",
      "[10]\tvalidation_0-mlogloss:0.74214\n",
      "[11]\tvalidation_0-mlogloss:0.72396\n",
      "[12]\tvalidation_0-mlogloss:0.71420\n",
      "[13]\tvalidation_0-mlogloss:0.70043\n",
      "[14]\tvalidation_0-mlogloss:0.68619\n",
      "[15]\tvalidation_0-mlogloss:0.67337\n",
      "[16]\tvalidation_0-mlogloss:0.66165\n",
      "[17]\tvalidation_0-mlogloss:0.65162\n",
      "[18]\tvalidation_0-mlogloss:0.64246\n",
      "[19]\tvalidation_0-mlogloss:0.63418\n",
      "[20]\tvalidation_0-mlogloss:0.62623\n",
      "[21]\tvalidation_0-mlogloss:0.62034\n",
      "[22]\tvalidation_0-mlogloss:0.61364\n",
      "[23]\tvalidation_0-mlogloss:0.60640\n",
      "[24]\tvalidation_0-mlogloss:0.60011\n",
      "[25]\tvalidation_0-mlogloss:0.59557\n",
      "[26]\tvalidation_0-mlogloss:0.58957\n",
      "[27]\tvalidation_0-mlogloss:0.58542\n",
      "[28]\tvalidation_0-mlogloss:0.58063\n",
      "[29]\tvalidation_0-mlogloss:0.57670\n",
      "[30]\tvalidation_0-mlogloss:0.57361\n",
      "[31]\tvalidation_0-mlogloss:0.56850\n",
      "[32]\tvalidation_0-mlogloss:0.56222\n",
      "[33]\tvalidation_0-mlogloss:0.55798\n",
      "[34]\tvalidation_0-mlogloss:0.55346\n",
      "[35]\tvalidation_0-mlogloss:0.54833\n",
      "[36]\tvalidation_0-mlogloss:0.54440\n",
      "[37]\tvalidation_0-mlogloss:0.54235\n",
      "[38]\tvalidation_0-mlogloss:0.53814\n",
      "[39]\tvalidation_0-mlogloss:0.53409\n",
      "[40]\tvalidation_0-mlogloss:0.53117\n",
      "[41]\tvalidation_0-mlogloss:0.52715\n",
      "[42]\tvalidation_0-mlogloss:0.52330\n",
      "[43]\tvalidation_0-mlogloss:0.52097\n",
      "[44]\tvalidation_0-mlogloss:0.51689\n",
      "[45]\tvalidation_0-mlogloss:0.51439\n",
      "[46]\tvalidation_0-mlogloss:0.51139\n",
      "[47]\tvalidation_0-mlogloss:0.50739\n",
      "[48]\tvalidation_0-mlogloss:0.50486\n",
      "[49]\tvalidation_0-mlogloss:0.50235\n",
      "[50]\tvalidation_0-mlogloss:0.50037\n",
      "[51]\tvalidation_0-mlogloss:0.49815\n",
      "[52]\tvalidation_0-mlogloss:0.49631\n",
      "[53]\tvalidation_0-mlogloss:0.49474\n",
      "[54]\tvalidation_0-mlogloss:0.49285\n",
      "[55]\tvalidation_0-mlogloss:0.48957\n",
      "[56]\tvalidation_0-mlogloss:0.48823\n",
      "[57]\tvalidation_0-mlogloss:0.48546\n",
      "[58]\tvalidation_0-mlogloss:0.48332\n",
      "[59]\tvalidation_0-mlogloss:0.48116\n",
      "[60]\tvalidation_0-mlogloss:0.47933\n",
      "[61]\tvalidation_0-mlogloss:0.47681\n",
      "[62]\tvalidation_0-mlogloss:0.47437\n",
      "[63]\tvalidation_0-mlogloss:0.47203\n",
      "[64]\tvalidation_0-mlogloss:0.46944\n",
      "[65]\tvalidation_0-mlogloss:0.46823\n",
      "[66]\tvalidation_0-mlogloss:0.46638\n",
      "[67]\tvalidation_0-mlogloss:0.46460\n",
      "[68]\tvalidation_0-mlogloss:0.46369\n",
      "[69]\tvalidation_0-mlogloss:0.46224\n",
      "[70]\tvalidation_0-mlogloss:0.46028\n",
      "[71]\tvalidation_0-mlogloss:0.45727\n",
      "[72]\tvalidation_0-mlogloss:0.45585\n",
      "[73]\tvalidation_0-mlogloss:0.45394\n",
      "[74]\tvalidation_0-mlogloss:0.45245\n",
      "[75]\tvalidation_0-mlogloss:0.45091\n",
      "[76]\tvalidation_0-mlogloss:0.44971\n",
      "[77]\tvalidation_0-mlogloss:0.44761\n",
      "[78]\tvalidation_0-mlogloss:0.44689\n",
      "[79]\tvalidation_0-mlogloss:0.44507\n",
      "[80]\tvalidation_0-mlogloss:0.44404\n",
      "[81]\tvalidation_0-mlogloss:0.44343\n",
      "[82]\tvalidation_0-mlogloss:0.44311\n",
      "[83]\tvalidation_0-mlogloss:0.44200\n",
      "[84]\tvalidation_0-mlogloss:0.44001\n",
      "[85]\tvalidation_0-mlogloss:0.43861\n",
      "[86]\tvalidation_0-mlogloss:0.43667\n",
      "[87]\tvalidation_0-mlogloss:0.43568\n",
      "[88]\tvalidation_0-mlogloss:0.43452\n",
      "[89]\tvalidation_0-mlogloss:0.43388\n",
      "[90]\tvalidation_0-mlogloss:0.43241\n",
      "[91]\tvalidation_0-mlogloss:0.43018\n",
      "[92]\tvalidation_0-mlogloss:0.42892\n",
      "[93]\tvalidation_0-mlogloss:0.42809\n",
      "[94]\tvalidation_0-mlogloss:0.42646\n",
      "[95]\tvalidation_0-mlogloss:0.42436\n",
      "[96]\tvalidation_0-mlogloss:0.42395\n",
      "[97]\tvalidation_0-mlogloss:0.42240\n",
      "[98]\tvalidation_0-mlogloss:0.42161\n",
      "[99]\tvalidation_0-mlogloss:0.42024\n",
      "[100]\tvalidation_0-mlogloss:0.41960\n",
      "[101]\tvalidation_0-mlogloss:0.41815\n",
      "[102]\tvalidation_0-mlogloss:0.41671\n",
      "[103]\tvalidation_0-mlogloss:0.41622\n",
      "[104]\tvalidation_0-mlogloss:0.41537\n",
      "[105]\tvalidation_0-mlogloss:0.41371\n",
      "[106]\tvalidation_0-mlogloss:0.41325\n",
      "[107]\tvalidation_0-mlogloss:0.41250\n",
      "[108]\tvalidation_0-mlogloss:0.41119\n",
      "[109]\tvalidation_0-mlogloss:0.41016\n",
      "[110]\tvalidation_0-mlogloss:0.40938\n",
      "[111]\tvalidation_0-mlogloss:0.40868\n",
      "[112]\tvalidation_0-mlogloss:0.40763\n",
      "[113]\tvalidation_0-mlogloss:0.40717\n",
      "[114]\tvalidation_0-mlogloss:0.40615\n",
      "[115]\tvalidation_0-mlogloss:0.40542\n",
      "[116]\tvalidation_0-mlogloss:0.40505\n",
      "[117]\tvalidation_0-mlogloss:0.40449\n",
      "[118]\tvalidation_0-mlogloss:0.40351\n",
      "[119]\tvalidation_0-mlogloss:0.40278\n",
      "[120]\tvalidation_0-mlogloss:0.40186\n",
      "[121]\tvalidation_0-mlogloss:0.40137\n",
      "[122]\tvalidation_0-mlogloss:0.40048\n",
      "[123]\tvalidation_0-mlogloss:0.39983\n",
      "[124]\tvalidation_0-mlogloss:0.39879\n",
      "[125]\tvalidation_0-mlogloss:0.39801\n",
      "[126]\tvalidation_0-mlogloss:0.39722\n",
      "[127]\tvalidation_0-mlogloss:0.39684\n",
      "[128]\tvalidation_0-mlogloss:0.39619\n",
      "[129]\tvalidation_0-mlogloss:0.39579\n",
      "[130]\tvalidation_0-mlogloss:0.39525\n",
      "[131]\tvalidation_0-mlogloss:0.39475\n",
      "[132]\tvalidation_0-mlogloss:0.39397\n",
      "[133]\tvalidation_0-mlogloss:0.39285\n",
      "[134]\tvalidation_0-mlogloss:0.39250\n",
      "[135]\tvalidation_0-mlogloss:0.39191\n",
      "[136]\tvalidation_0-mlogloss:0.39115\n",
      "[137]\tvalidation_0-mlogloss:0.39049\n",
      "[138]\tvalidation_0-mlogloss:0.38987\n",
      "[139]\tvalidation_0-mlogloss:0.38957\n",
      "[140]\tvalidation_0-mlogloss:0.38887\n",
      "[141]\tvalidation_0-mlogloss:0.38800\n",
      "[142]\tvalidation_0-mlogloss:0.38745\n",
      "[143]\tvalidation_0-mlogloss:0.38672\n",
      "[144]\tvalidation_0-mlogloss:0.38666\n",
      "[145]\tvalidation_0-mlogloss:0.38628\n",
      "[146]\tvalidation_0-mlogloss:0.38589\n",
      "[147]\tvalidation_0-mlogloss:0.38489\n",
      "[148]\tvalidation_0-mlogloss:0.38389\n",
      "[149]\tvalidation_0-mlogloss:0.38338\n",
      "[150]\tvalidation_0-mlogloss:0.38299\n",
      "[151]\tvalidation_0-mlogloss:0.38203\n",
      "[152]\tvalidation_0-mlogloss:0.38199\n",
      "[153]\tvalidation_0-mlogloss:0.38150\n",
      "[154]\tvalidation_0-mlogloss:0.38074\n",
      "[155]\tvalidation_0-mlogloss:0.38038\n",
      "[156]\tvalidation_0-mlogloss:0.37992\n",
      "[157]\tvalidation_0-mlogloss:0.37962\n",
      "[158]\tvalidation_0-mlogloss:0.37899\n",
      "[159]\tvalidation_0-mlogloss:0.37857\n",
      "[160]\tvalidation_0-mlogloss:0.37755\n",
      "[161]\tvalidation_0-mlogloss:0.37690\n",
      "[162]\tvalidation_0-mlogloss:0.37658\n",
      "[163]\tvalidation_0-mlogloss:0.37612\n",
      "[164]\tvalidation_0-mlogloss:0.37579\n",
      "[165]\tvalidation_0-mlogloss:0.37516\n",
      "[166]\tvalidation_0-mlogloss:0.37466\n",
      "[167]\tvalidation_0-mlogloss:0.37441\n",
      "[168]\tvalidation_0-mlogloss:0.37424\n",
      "[169]\tvalidation_0-mlogloss:0.37351\n",
      "[170]\tvalidation_0-mlogloss:0.37291\n",
      "[171]\tvalidation_0-mlogloss:0.37240\n",
      "[172]\tvalidation_0-mlogloss:0.37182\n",
      "[173]\tvalidation_0-mlogloss:0.37147\n",
      "[174]\tvalidation_0-mlogloss:0.37084\n",
      "[175]\tvalidation_0-mlogloss:0.37062\n",
      "[176]\tvalidation_0-mlogloss:0.37027\n",
      "[177]\tvalidation_0-mlogloss:0.36994\n",
      "[178]\tvalidation_0-mlogloss:0.36944\n",
      "[179]\tvalidation_0-mlogloss:0.36856\n",
      "[180]\tvalidation_0-mlogloss:0.36789\n",
      "[181]\tvalidation_0-mlogloss:0.36740\n",
      "[182]\tvalidation_0-mlogloss:0.36717\n",
      "[183]\tvalidation_0-mlogloss:0.36706\n",
      "[184]\tvalidation_0-mlogloss:0.36655\n",
      "[185]\tvalidation_0-mlogloss:0.36618\n",
      "[186]\tvalidation_0-mlogloss:0.36589\n",
      "[187]\tvalidation_0-mlogloss:0.36529\n",
      "[188]\tvalidation_0-mlogloss:0.36480\n",
      "[189]\tvalidation_0-mlogloss:0.36458\n",
      "[190]\tvalidation_0-mlogloss:0.36449\n",
      "[191]\tvalidation_0-mlogloss:0.36448\n",
      "[192]\tvalidation_0-mlogloss:0.36414\n",
      "[193]\tvalidation_0-mlogloss:0.36351\n",
      "[194]\tvalidation_0-mlogloss:0.36282\n",
      "[195]\tvalidation_0-mlogloss:0.36229\n",
      "[196]\tvalidation_0-mlogloss:0.36195\n",
      "[197]\tvalidation_0-mlogloss:0.36139\n",
      "[198]\tvalidation_0-mlogloss:0.36098\n",
      "[199]\tvalidation_0-mlogloss:0.36067\n",
      "Training completato!\n"
     ]
    }
   ],
   "execution_count": 5
  },
  {
   "cell_type": "markdown",
   "id": "33cceead",
   "metadata": {},
   "source": [
    "## 4. Valutazione"
   ]
  },
  {
   "cell_type": "code",
   "id": "f00016cb",
   "metadata": {
    "ExecuteTime": {
     "end_time": "2025-10-29T11:39:16.712539Z",
     "start_time": "2025-10-29T11:39:16.625556Z"
    }
   },
   "source": [
    "y_pred = model.predict(X_test)\n",
    "\n",
    "print(\"=\" * 70)\n",
    "print(\"PERFORMANCE TEST SET\")\n",
    "print(\"=\" * 70)\n",
    "\n",
    "print(\"\\nClassification Report:\")\n",
    "print(classification_report(\n",
    "    y_test_encoded, y_pred,\n",
    "    target_names=le_target.classes_,\n",
    "    digits=4\n",
    "))\n",
    "\n",
    "accuracy = accuracy_score(y_test_encoded, y_pred)\n",
    "macro_f1 = f1_score(y_test_encoded, y_pred, average='macro')\n",
    "\n",
    "print(f\"\\nACCURACY:          {accuracy:.4f}\")\n",
    "print(f\"MACRO F1-SCORE:    {macro_f1:.4f} ⭐\")"
   ],
   "outputs": [
    {
     "name": "stdout",
     "output_type": "stream",
     "text": [
      "======================================================================\n",
      "PERFORMANCE TEST SET\n",
      "======================================================================\n",
      "\n",
      "Classification Report:\n",
      "                precision    recall  f1-score   support\n",
      "\n",
      "BenignPositive     0.8399    0.9342    0.8845     65440\n",
      " FalsePositive     0.8721    0.8272    0.8490     40547\n",
      "  TruePositive     0.8692    0.7097    0.7814     28684\n",
      "\n",
      "      accuracy                         0.8542    134671\n",
      "     macro avg     0.8604    0.8237    0.8383    134671\n",
      "  weighted avg     0.8558    0.8542    0.8519    134671\n",
      "\n",
      "\n",
      "ACCURACY:          0.8542\n",
      "MACRO F1-SCORE:    0.8383 ⭐\n"
     ]
    }
   ],
   "execution_count": 6
  },
  {
   "cell_type": "code",
   "id": "2f6825d9",
   "metadata": {
    "ExecuteTime": {
     "end_time": "2025-10-29T11:39:54.614990Z",
     "start_time": "2025-10-29T11:39:54.487891Z"
    }
   },
   "source": [
    "# Confusion Matrix\n",
    "cm = confusion_matrix(y_test_encoded, y_pred)\n",
    "cm_norm = cm.astype('float') / cm.sum(axis=1)[:, np.newaxis]\n",
    "\n",
    "fig, axes = plt.subplots(1, 2, figsize=(16, 6))\n",
    "\n",
    "sns.heatmap(cm, annot=True, fmt='d', cmap='Blues',\n",
    "            xticklabels=le_target.classes_,\n",
    "            yticklabels=le_target.classes_,\n",
    "            ax=axes[0])\n",
    "axes[0].set_title('Confusion Matrix')\n",
    "axes[0].set_ylabel('True Label')\n",
    "axes[0].set_xlabel('Predicted Label')\n",
    "\n",
    "sns.heatmap(cm_norm, annot=True, fmt='.2%', cmap='Blues',\n",
    "            xticklabels=le_target.classes_,\n",
    "            yticklabels=le_target.classes_,\n",
    "            ax=axes[1])\n",
    "axes[1].set_title('Confusion Matrix (Normalizzata)')\n",
    "axes[1].set_ylabel('True Label')\n",
    "axes[1].set_xlabel('Predicted Label')\n",
    "\n",
    "plt.tight_layout()\n",
    "plt.show()"
   ],
   "outputs": [
    {
     "data": {
      "text/plain": [
       "<Figure size 1600x600 with 4 Axes>"
      ],
      "image/png": "[encoded data removed]"
     },
     "metadata": {},
     "output_type": "display_data",
     "jetTransient": {
      "display_id": null
     }
    }
   ],
   "execution_count": 7
  },
  {
   "cell_type": "markdown",
   "id": "30478912",
   "metadata": {},
   "source": [
    "## 5. Cross-Validation"
   ]
  },
  {
   "cell_type": "code",
   "id": "9ba1f5ed",
   "metadata": {
    "ExecuteTime": {
     "end_time": "2025-10-29T11:40:16.848898Z",
     "start_time": "2025-10-29T11:40:10.729967Z"
    }
   },
   "source": [
    "print(\"Esecuzione 5-Fold Cross-Validation...\\n\")\n",
    "\n",
    "skf = StratifiedKFold(n_splits=5, shuffle=True, random_state=42)\n",
    "cv_scores = cross_val_score(\n",
    "    model, X_train, y_train_encoded,\n",
    "    cv=skf,\n",
    "    scoring='f1_macro',\n",
    "    n_jobs=-1\n",
    ")\n",
    "\n",
    "print(f\"Cross-Validation Macro F1 Scores:\")\n",
    "for i, score in enumerate(cv_scores, 1):\n",
    "    print(f\"  Fold {i}: {score:.4f}\")\n",
    "\n",
    "print(f\"\\nMedia:  {cv_scores.mean():.4f}\")\n",
    "print(f\"Std:    {cv_scores.std():.4f}\")"
   ],
   "outputs": [
    {
     "name": "stdout",
     "output_type": "stream",
     "text": [
      "Esecuzione 5-Fold Cross-Validation...\n",
      "\n",
      "Cross-Validation Macro F1 Scores:\n",
      "  Fold 1: 0.8385\n",
      "  Fold 2: 0.8436\n",
      "  Fold 3: 0.8395\n",
      "  Fold 4: 0.8400\n",
      "  Fold 5: 0.8394\n",
      "\n",
      "Media:  0.8402\n",
      "Std:    0.0018\n"
     ]
    }
   ],
   "execution_count": 8
  },
  {
   "cell_type": "markdown",
   "id": "2ba4ce68",
   "metadata": {},
   "source": [
    "## 6. Feature Importance"
   ]
  },
  {
   "cell_type": "code",
   "id": "c0daa32d",
   "metadata": {
    "ExecuteTime": {
     "end_time": "2025-10-29T11:40:26.221325Z",
     "start_time": "2025-10-29T11:40:26.214297Z"
    }
   },
   "source": [
    "feature_importance = pd.DataFrame({\n",
    "    'Feature': X_train.columns,\n",
    "    'Importance': model.feature_importances_\n",
    "}).sort_values('Importance', ascending=False)\n",
    "\n",
    "print(\"Top 20 Features più importanti:\")\n",
    "print(feature_importance.head(20).to_string(index=False))"
   ],
   "outputs": [
    {
     "name": "stdout",
     "output_type": "stream",
     "text": [
      "Top 20 Features più importanti:\n",
      "            Feature  Importance\n",
      "        OrgId_first    0.232536\n",
      "DetectorId_get_mode    0.170325\n",
      "          NumAlerts    0.121202\n",
      "       NumEvidences    0.109371\n",
      "   NumWithSuspicion    0.073218\n",
      "     NumWithVerdict    0.071945\n",
      "  Category_get_mode    0.065258\n",
      "     NumEntityTypes    0.030068\n",
      "   Duration_seconds    0.026695\n",
      "          Hour_Last    0.021633\n",
      "      IsWeekend_max    0.013822\n",
      " DayOfWeek_get_mode    0.012057\n",
      "   NumEvidenceRoles    0.009117\n",
      "         Hour_First    0.008040\n",
      "           Hour_Avg    0.007064\n",
      "  MITRE_unknown_sum    0.004794\n",
      "    MITRE_T1110_sum    0.004315\n",
      "    MITRE_T1059_sum    0.004284\n",
      "    MITRE_T1078_sum    0.003850\n",
      "    MITRE_T1566_sum    0.003793\n"
     ]
    }
   ],
   "execution_count": 9
  },
  {
   "cell_type": "code",
   "id": "c35dfe17",
   "metadata": {
    "ExecuteTime": {
     "end_time": "2025-10-29T11:41:20.328912Z",
     "start_time": "2025-10-29T11:41:20.256651Z"
    }
   },
   "source": [
    "# Plot top features\n",
    "plt.figure(figsize=(12, 8))\n",
    "top_n = 20\n",
    "top_features = feature_importance.head(top_n)\n",
    "\n",
    "plt.barh(range(top_n), top_features['Importance'], color='steelblue')\n",
    "plt.yticks(range(top_n), top_features['Feature'])\n",
    "plt.xlabel('Importance')\n",
    "plt.ylabel('Feature')\n",
    "plt.title(f'Top {top_n} Feature Importance')\n",
    "plt.gca().invert_yaxis()\n",
    "plt.tight_layout()\n",
    "plt.show()"
   ],
   "outputs": [
    {
     "data": {
      "text/plain": [
       "<Figure size 1200x800 with 1 Axes>"
      ],
      "image/png": "[encoded data removed]"
     },
     "metadata": {},
     "output_type": "display_data",
     "jetTransient": {
      "display_id": null
     }
    }
   ],
   "execution_count": 10
  },
  {
   "cell_type": "markdown",
   "id": "ecb4470c",
   "metadata": {},
   "source": [
    "## 7. Salvataggio Modello"
   ]
  },
  {
   "cell_type": "code",
   "id": "0eccb2b9",
   "metadata": {
    "ExecuteTime": {
     "end_time": "2025-10-29T11:41:46.125103Z",
     "start_time": "2025-10-29T11:41:46.094111Z"
    }
   },
   "source": [
    "os.makedirs('../models', exist_ok=True)\n",
    "\n",
    "model.save_model('../models/xgboost_optimized.json')\n",
    "\n",
    "with open('../models/xgboost_optimized.pkl', 'wb') as f:\n",
    "    pickle.dump(model, f)\n",
    "\n",
    "with open('../models/label_encoder_target.pkl', 'wb') as f:\n",
    "    pickle.dump(le_target, f)\n",
    "\n",
    "feature_importance.to_csv('../models/feature_importance.csv', index=False)\n",
    "\n",
    "print(\"Modello salvato in ../models/\")\n",
    "print(\"  - xgboost_optimized.json\")\n",
    "print(\"  - xgboost_optimized.pkl\")\n",
    "print(\"  - label_encoder_target.pkl\")\n",
    "print(\"  - feature_importance.csv\")"
   ],
   "outputs": [
    {
     "name": "stdout",
     "output_type": "stream",
     "text": [
      "Modello salvato in ../models/\n",
      "  - xgboost_optimized.json\n",
      "  - xgboost_optimized.pkl\n",
      "  - label_encoder_target.pkl\n",
      "  - feature_importance.csv\n"
     ]
    }
   ],
   "execution_count": 11
  },
  {
   "cell_type": "markdown",
   "id": "21aebd41",
   "metadata": {},
   "source": [
    "## 8. Riepilogo"
   ]
  },
  {
   "cell_type": "code",
   "id": "26bd30bd",
   "metadata": {
    "ExecuteTime": {
     "end_time": "2025-10-29T11:41:52.867690Z",
     "start_time": "2025-10-29T11:41:52.863186Z"
    }
   },
   "source": [
    "print(\"=\" * 70)\n",
    "print(\"RIEPILOGO FINALE\")\n",
    "print(\"=\" * 70)\n",
    "\n",
    "print(f\"\\nDATASET:\")\n",
    "print(f\"  Training: {len(X_train):,} samples\")\n",
    "print(f\"  Test: {len(X_test):,} samples\")\n",
    "print(f\"  Features: {X_train.shape[1]}\")\n",
    "print(f\"  Classi: {len(le_target.classes_)} ({', '.join(le_target.classes_)})\")\n",
    "\n",
    "print(f\"\\nPERFORMANCE:\")\n",
    "print(f\"  Test Accuracy: {accuracy:.4f}\")\n",
    "print(f\"  Test Macro F1: {macro_f1:.4f}\")\n",
    "print(f\"  CV Macro F1: {cv_scores.mean():.4f} ± {cv_scores.std():.4f}\")\n",
    "\n",
    "print(f\"\\nTOP 5 FEATURES:\")\n",
    "for _, row in feature_importance.head(5).iterrows():\n",
    "    print(f\"  {row['Feature']:30s} {row['Importance']:.4f}\")\n",
    "\n",
    "print(\"\\n\" + \"=\" * 70)"
   ],
   "outputs": [
    {
     "name": "stdout",
     "output_type": "stream",
     "text": [
      "======================================================================\n",
      "RIEPILOGO FINALE\n",
      "======================================================================\n",
      "\n",
      "DATASET:\n",
      "  Training: 314,230 samples\n",
      "  Test: 134,671 samples\n",
      "  Features: 22\n",
      "  Classi: 3 (BenignPositive, FalsePositive, TruePositive)\n",
      "\n",
      "PERFORMANCE:\n",
      "  Test Accuracy: 0.8542\n",
      "  Test Macro F1: 0.8383\n",
      "  CV Macro F1: 0.8402 ± 0.0018\n",
      "\n",
      "TOP 5 FEATURES:\n",
      "  OrgId_first                    0.2325\n",
      "  DetectorId_get_mode            0.1703\n",
      "  NumAlerts                      0.1212\n",
      "  NumEvidences                   0.1094\n",
      "  NumWithSuspicion               0.0732\n",
      "\n",
      "======================================================================\n"
     ]
    }
   ],
   "execution_count": 12
  }
 ],
 "metadata": {
  "language_info": {
   "name": "python"
  },
  "kernelspec": {
   "name": "python3",
   "language": "python",
   "display_name": "Python 3 (ipykernel)"
  }
 },
 "nbformat": 4,
 "nbformat_minor": 5
}
