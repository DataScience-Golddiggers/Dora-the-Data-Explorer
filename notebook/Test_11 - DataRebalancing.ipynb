{
 "cells": [
  {
   "cell_type": "markdown",
   "id": "f8da71f4",
   "metadata": {},
   "source": [
    "# Data Rebalancing - Minority Class Augmentation\n",
    "\n",
    "**Obiettivo:** Ribilanciare il training set aggiungendo campioni della classe minoritaria (TruePositive) dal GUIDE_Test.csv\n",
    "\n",
    "**Pipeline:**\n",
    "1. Analisi distribuzione classi nel training set attuale\n",
    "2. Caricamento GUIDE_Test.csv\n",
    "3. Applicazione stesso preprocessing di Test_03 - FeatureEngineering_v3\n",
    "4. Estrazione campioni classe minoritaria dal test set\n",
    "5. Merge con training set originale\n",
    "6. Verifica bilanciamento finale\n",
    "7. Salvataggio nuovo dataset bilanciato"
   ]
  },
  {
   "cell_type": "markdown",
   "id": "896a7124",
   "metadata": {},
   "source": [
    "## 1. Setup e Analisi Training Set Attuale"
   ]
  },
  {
   "cell_type": "code",
   "id": "452bf8ca",
   "metadata": {
    "ExecuteTime": {
     "end_time": "2025-10-30T12:58:17.017645Z",
     "start_time": "2025-10-30T12:58:17.012374Z"
    }
   },
   "source": [
    "import pandas as pd\n",
    "import numpy as np\n",
    "from collections import Counter\n",
    "from sklearn.preprocessing import MultiLabelBinarizer\n",
    "import os\n",
    "import warnings\n",
    "warnings.filterwarnings('ignore')\n",
    "\n",
    "print(\"Librerie importate con successo!\")"
   ],
   "outputs": [
    {
     "name": "stdout",
     "output_type": "stream",
     "text": [
      "Librerie importate con successo!\n"
     ]
    }
   ],
   "execution_count": 7
  },
  {
   "cell_type": "code",
   "id": "d2ffc5ac",
   "metadata": {
    "ExecuteTime": {
     "end_time": "2025-10-30T12:58:17.451609Z",
     "start_time": "2025-10-30T12:58:17.027333Z"
    }
   },
   "source": [
    "# Carica training set attuale\n",
    "X_train_orig = pd.read_csv('../data/processed_v3/X_train.csv')\n",
    "y_train_orig = pd.read_csv('../data/processed_v3/y_train.csv')\n",
    "\n",
    "print(f\"Training set originale: {X_train_orig.shape}\")\n",
    "print(f\"\\nDistribuzione classi:\")\n",
    "print(y_train_orig['BinaryIncidentGrade'].value_counts())\n",
    "print(f\"\\nPercentuali:\")\n",
    "print(y_train_orig['BinaryIncidentGrade'].value_counts(normalize=True).mul(100).round(2))\n",
    "\n",
    "# Calcola quanti campioni servono per bilanciare\n",
    "class_counts = y_train_orig['BinaryIncidentGrade'].value_counts()\n",
    "majority_count = class_counts[0]\n",
    "minority_count = class_counts[1]\n",
    "samples_needed = majority_count - minority_count\n",
    "\n",
    "print(f\"\\nClasse maggioritaria (0): {majority_count:,} campioni\")\n",
    "print(f\"Classe minoritaria (1): {minority_count:,} campioni\")\n",
    "print(f\"Campioni necessari per bilanciamento completo: {samples_needed:,}\")"
   ],
   "outputs": [
    {
     "name": "stdout",
     "output_type": "stream",
     "text": [
      "Training set originale: (314230, 43)\n",
      "\n",
      "Distribuzione classi:\n",
      "BinaryIncidentGrade\n",
      "0    247302\n",
      "1     66928\n",
      "Name: count, dtype: int64\n",
      "\n",
      "Percentuali:\n",
      "BinaryIncidentGrade\n",
      "0    78.7\n",
      "1    21.3\n",
      "Name: proportion, dtype: float64\n",
      "\n",
      "Classe maggioritaria (0): 247,302 campioni\n",
      "Classe minoritaria (1): 66,928 campioni\n",
      "Campioni necessari per bilanciamento completo: 180,374\n"
     ]
    }
   ],
   "execution_count": 8
  },
  {
   "cell_type": "markdown",
   "id": "4b919b83",
   "metadata": {},
   "source": [
    "## 2. Caricamento e Preprocessing GUIDE_Test\n",
    "\n",
    "Applichiamo lo stesso preprocessing di Test_03 - FeatureEngineering_v3"
   ]
  },
  {
   "cell_type": "code",
   "id": "f910a0b5",
   "metadata": {
    "ExecuteTime": {
     "end_time": "2025-10-30T12:58:25.636940Z",
     "start_time": "2025-10-30T12:58:17.457316Z"
    }
   },
   "source": [
    "# Carica GUIDE_Test.csv\n",
    "print(\"Caricamento GUIDE_Test.csv...\")\n",
    "df_test = pd.read_csv('../data/GUIDE_Test.csv')\n",
    "\n",
    "print(f\"Dataset test caricato: {df_test.shape[0]:,} righe, {df_test.shape[1]} colonne\")\n",
    "\n",
    "# Rimuovi record senza target\n",
    "df_test = df_test[df_test['IncidentGrade'].notna()].copy()\n",
    "\n",
    "print(f\"Dimensioni dopo pulizia: {df_test.shape}\")"
   ],
   "outputs": [
    {
     "name": "stdout",
     "output_type": "stream",
     "text": [
      "Caricamento GUIDE_Test.csv...\n",
      "Dataset test caricato: 4,147,992 righe, 46 colonne\n",
      "Dimensioni dopo pulizia: (4147992, 46)\n"
     ]
    }
   ],
   "execution_count": 9
  },
  {
   "cell_type": "markdown",
   "id": "277834bf",
   "metadata": {},
   "source": [
    "### 2.1 Target Binario"
   ]
  },
  {
   "cell_type": "code",
   "id": "d39f1067",
   "metadata": {
    "ExecuteTime": {
     "end_time": "2025-10-30T12:58:26.114742Z",
     "start_time": "2025-10-30T12:58:25.646464Z"
    }
   },
   "source": [
    "# Crea target binario: 1 = TruePositive, 0 = FalsePositive/BenignPositive\n",
    "df_test['BinaryIncidentGrade'] = df_test['IncidentGrade'].apply(\n",
    "    lambda x: 1 if x == 'TruePositive' else 0\n",
    ")\n",
    "\n",
    "counts = df_test['BinaryIncidentGrade'].value_counts()\n",
    "percentages = df_test['BinaryIncidentGrade'].value_counts(normalize=True).mul(100).round(2)\n",
    "\n",
    "result = pd.DataFrame({'Count': counts, 'Percentage': percentages})\n",
    "print(\"\\nDistribuzione Target Binario nel Test Set:\")\n",
    "print(result)\n",
    "\n",
    "# Verifica se ci sono abbastanza campioni TruePositive\n",
    "tp_available = counts.get(1, 0)\n",
    "print(f\"\\nCampioni TruePositive disponibili: {tp_available:,}\")\n",
    "print(f\"Campioni TruePositive necessari: {samples_needed:,}\")\n",
    "\n",
    "if tp_available >= samples_needed:\n",
    "    print(f\"✓ Abbiamo abbastanza campioni per bilanciamento completo!\")\n",
    "else:\n",
    "    print(f\"⚠ Possiamo aggiungere solo {tp_available:,} campioni (bilanciamento parziale)\")"
   ],
   "outputs": [
    {
     "name": "stdout",
     "output_type": "stream",
     "text": [
      "\n",
      "Distribuzione Target Binario nel Test Set:\n",
      "                       Count  Percentage\n",
      "BinaryIncidentGrade                     \n",
      "0                    2655638       64.02\n",
      "1                    1492354       35.98\n",
      "\n",
      "Campioni TruePositive disponibili: 1,492,354\n",
      "Campioni TruePositive necessari: 180,374\n",
      "✓ Abbiamo abbastanza campioni per bilanciamento completo!\n"
     ]
    }
   ],
   "execution_count": 10
  },
  {
   "cell_type": "markdown",
   "id": "d57c0ace",
   "metadata": {},
   "source": [
    "### 2.2 SmoothedRisk per AlertTitle"
   ]
  },
  {
   "cell_type": "code",
   "id": "81256fdf",
   "metadata": {
    "ExecuteTime": {
     "end_time": "2025-10-30T12:58:50.751472Z",
     "start_time": "2025-10-30T12:58:26.120300Z"
    }
   },
   "source": [
    "# IMPORTANTE: Dobbiamo usare le statistiche del TRAINING set per calcolare SmoothedRisk\n",
    "# altrimenti creiamo data leakage\n",
    "\n",
    "# Carica il training originale per calcolare le statistiche globali\n",
    "df_train_full = pd.read_csv('../data/GUIDE_Train.csv')\n",
    "df_train_full = df_train_full[df_train_full['IncidentGrade'].notna()].copy()\n",
    "df_train_full['BinaryIncidentGrade'] = df_train_full['IncidentGrade'].apply(\n",
    "    lambda x: 1 if x == 'TruePositive' else 0\n",
    ")\n",
    "\n",
    "# Calcola risk dal training set\n",
    "alert_risk = df_train_full.groupby('AlertTitle')['BinaryIncidentGrade'].mean()\n",
    "alert_count = df_train_full.groupby('AlertTitle')['BinaryIncidentGrade'].sum()\n",
    "\n",
    "alert_summary = pd.DataFrame({\n",
    "    'Risk': alert_risk,\n",
    "    'Count': alert_count\n",
    "})\n",
    "\n",
    "# Bayesian smoothing\n",
    "alpha = 2\n",
    "beta = 2\n",
    "\n",
    "alert_summary['SmoothedRisk'] = (\n",
    "    alert_summary['Risk'] * alert_summary['Count'] + alpha\n",
    ") / (alert_summary['Count'] + alpha + beta)\n",
    "\n",
    "# Applica al test set\n",
    "df_test = df_test.merge(\n",
    "    alert_summary[['SmoothedRisk']], \n",
    "    left_on='AlertTitle', \n",
    "    right_index=True, \n",
    "    how='left'\n",
    ")\n",
    "\n",
    "# Fill NaN per AlertTitle non visti nel training con media globale\n",
    "global_mean = alert_summary['SmoothedRisk'].mean()\n",
    "df_test['SmoothedRisk'] = df_test['SmoothedRisk'].fillna(global_mean)\n",
    "\n",
    "print(f\"SmoothedRisk applicato al test set\")\n",
    "print(f\"Statistiche SmoothedRisk:\")\n",
    "print(df_test['SmoothedRisk'].describe())\n",
    "\n",
    "# Libera memoria\n",
    "del df_train_full"
   ],
   "outputs": [
    {
     "name": "stdout",
     "output_type": "stream",
     "text": [
      "SmoothedRisk applicato al test set\n",
      "Statistiche SmoothedRisk:\n",
      "count    4.147992e+06\n",
      "mean     4.910405e-01\n",
      "std      2.671985e-01\n",
      "min      1.622586e-02\n",
      "25%      2.835467e-01\n",
      "50%      5.000000e-01\n",
      "75%      7.540790e-01\n",
      "max      9.999631e-01\n",
      "Name: SmoothedRisk, dtype: float64\n"
     ]
    }
   ],
   "execution_count": 11
  },
  {
   "cell_type": "markdown",
   "id": "df9e2484",
   "metadata": {},
   "source": [
    "### 2.3 GeoLoc_freq"
   ]
  },
  {
   "cell_type": "code",
   "id": "e086c5b8",
   "metadata": {
    "ExecuteTime": {
     "end_time": "2025-10-30T12:58:52.814120Z",
     "start_time": "2025-10-30T12:58:50.785761Z"
    }
   },
   "source": [
    "# Crea identificatore geografico\n",
    "df_test['GeoLoc'] = (\n",
    "    df_test['CountryCode'].astype(str) + \"_\" + \n",
    "    df_test['State'].astype(str) + \"_\" + \n",
    "    df_test['City'].astype(str)\n",
    ")\n",
    "\n",
    "# Calcola frequenza normalizzata\n",
    "geo_freq = df_test['GeoLoc'].value_counts(normalize=True)\n",
    "df_test['GeoLoc_freq'] = df_test['GeoLoc'].map(geo_freq)\n",
    "\n",
    "# Drop colonne geografiche originali\n",
    "df_test.drop(columns=['CountryCode', 'State', 'City', 'GeoLoc'], inplace=True)\n",
    "\n",
    "print(\"GeoLoc_freq creato\")\n",
    "print(df_test['GeoLoc_freq'].describe())"
   ],
   "outputs": [
    {
     "name": "stdout",
     "output_type": "stream",
     "text": [
      "GeoLoc_freq creato\n",
      "count    4.147992e+06\n",
      "mean     8.371064e-01\n",
      "std      2.547715e-01\n",
      "min      2.410805e-07\n",
      "25%      9.148381e-01\n",
      "50%      9.148381e-01\n",
      "75%      9.148381e-01\n",
      "max      9.148381e-01\n",
      "Name: GeoLoc_freq, dtype: float64\n"
     ]
    }
   ],
   "execution_count": 12
  },
  {
   "cell_type": "markdown",
   "id": "31660e67",
   "metadata": {},
   "source": [
    "### 2.4 Features Temporali"
   ]
  },
  {
   "cell_type": "code",
   "id": "cf2e72f3",
   "metadata": {
    "ExecuteTime": {
     "end_time": "2025-10-30T12:58:54.571082Z",
     "start_time": "2025-10-30T12:58:52.818127Z"
    }
   },
   "source": [
    "df_test['Timestamp'] = pd.to_datetime(df_test['Timestamp'])\n",
    "df_test['month'] = df_test['Timestamp'].dt.month\n",
    "df_test['hour'] = df_test['Timestamp'].dt.hour\n",
    "df_test['weekday'] = df_test['Timestamp'].dt.weekday + 1\n",
    "df_test['IsWeekend'] = (df_test['Timestamp'].dt.dayofweek >= 5).astype(int)\n",
    "\n",
    "print(\"Features temporali create: month, hour, weekday, IsWeekend\")"
   ],
   "outputs": [
    {
     "name": "stdout",
     "output_type": "stream",
     "text": [
      "Features temporali create: month, hour, weekday, IsWeekend\n"
     ]
    }
   ],
   "execution_count": 13
  },
  {
   "cell_type": "markdown",
   "id": "6b7e0e6d",
   "metadata": {},
   "source": [
    "### 2.5 Gestione Missing e Frequency Encoding"
   ]
  },
  {
   "cell_type": "code",
   "id": "6b684e08",
   "metadata": {
    "ExecuteTime": {
     "end_time": "2025-10-30T12:58:55.381757Z",
     "start_time": "2025-10-30T12:58:54.576834Z"
    }
   },
   "source": [
    "# Fill missing values\n",
    "df_test['Roles'] = df_test['Roles'].fillna('missing')\n",
    "df_test['ActionGrouped'] = df_test['ActionGrouped'].fillna('Missing')\n",
    "df_test['SuspicionLevel'] = df_test['SuspicionLevel'].fillna('Missing')\n",
    "df_test['LastVerdict'] = df_test['LastVerdict'].fillna('Missing')\n",
    "\n",
    "# Group rare verdicts (< 100 occorrenze)\n",
    "verdict_counts = df_test['LastVerdict'].value_counts()\n",
    "rare_verdicts = verdict_counts[verdict_counts < 100].index\n",
    "df_test['LastVerdict'] = df_test['LastVerdict'].replace(rare_verdicts, 'Other')\n",
    "\n",
    "print(\"Missing values gestiti\")"
   ],
   "outputs": [
    {
     "name": "stdout",
     "output_type": "stream",
     "text": [
      "Missing values gestiti\n"
     ]
    }
   ],
   "execution_count": 14
  },
  {
   "cell_type": "code",
   "id": "cd7a0756",
   "metadata": {
    "ExecuteTime": {
     "end_time": "2025-10-30T12:59:00.252256Z",
     "start_time": "2025-10-30T12:58:55.385976Z"
    }
   },
   "source": [
    "# Frequency encoding per colonne ad alta cardinalità\n",
    "freq_encode_cols = [\n",
    "    'ThreatFamily', 'AntispamDirection', 'ActionGranular',\n",
    "    'LastVerdict', 'ResourceType', 'Roles', 'ActionGrouped', \n",
    "    'EntityType', 'Category'\n",
    "]\n",
    "\n",
    "for col in freq_encode_cols:\n",
    "    if col in df_test.columns:\n",
    "        # Fill missing\n",
    "        df_test[col] = df_test[col].fillna('Missing')\n",
    "        \n",
    "        # Frequency encode\n",
    "        freq = df_test[col].value_counts(normalize=True)\n",
    "        df_test[f\"{col}_freq\"] = df_test[col].map(freq)\n",
    "        \n",
    "        # Drop original\n",
    "        df_test.drop(columns=col, inplace=True)\n",
    "        print(f\"  {col} -> {col}_freq\")\n",
    "\n",
    "print(f\"\\nFrequency encoding completato per {len(freq_encode_cols)} colonne\")"
   ],
   "outputs": [
    {
     "name": "stdout",
     "output_type": "stream",
     "text": [
      "  ThreatFamily -> ThreatFamily_freq\n",
      "  AntispamDirection -> AntispamDirection_freq\n",
      "  ActionGranular -> ActionGranular_freq\n",
      "  LastVerdict -> LastVerdict_freq\n",
      "  ResourceType -> ResourceType_freq\n",
      "  Roles -> Roles_freq\n",
      "  ActionGrouped -> ActionGrouped_freq\n",
      "  EntityType -> EntityType_freq\n",
      "  Category -> Category_freq\n",
      "\n",
      "Frequency encoding completato per 9 colonne\n"
     ]
    }
   ],
   "execution_count": 15
  },
  {
   "cell_type": "markdown",
   "id": "af86fa9e",
   "metadata": {},
   "source": [
    "### 2.6 One-Hot Encoding Selettivo"
   ]
  },
  {
   "cell_type": "code",
   "id": "17b333eb",
   "metadata": {
    "ExecuteTime": {
     "end_time": "2025-10-30T12:59:02.074424Z",
     "start_time": "2025-10-30T12:59:00.255693Z"
    }
   },
   "source": [
    "onehot_cols = ['SuspicionLevel', 'EvidenceRole']\n",
    "\n",
    "for col in onehot_cols:\n",
    "    if col in df_test.columns:\n",
    "        # Fill missing\n",
    "        df_test[col] = df_test[col].fillna('Missing')\n",
    "        \n",
    "        # Group rare categories (< 100 occorrenze)\n",
    "        counts = df_test[col].value_counts()\n",
    "        rare = counts[counts < 100].index\n",
    "        df_test[col] = df_test[col].replace(rare, 'Other')\n",
    "        \n",
    "        # One-hot encode (drop_first per evitare multicollinearità)\n",
    "        df_test = pd.get_dummies(df_test, columns=[col], drop_first=True)\n",
    "        print(f\"  {col} -> one-hot encoded\")\n",
    "\n",
    "print(\"\\nOne-hot encoding completato\")"
   ],
   "outputs": [
    {
     "name": "stdout",
     "output_type": "stream",
     "text": [
      "  SuspicionLevel -> one-hot encoded\n",
      "  EvidenceRole -> one-hot encoded\n",
      "\n",
      "One-hot encoding completato\n"
     ]
    }
   ],
   "execution_count": 16
  },
  {
   "cell_type": "markdown",
   "id": "fd6f49f0",
   "metadata": {},
   "source": [
    "### 2.7 Processing MITRE Techniques (Top 30)"
   ]
  },
  {
   "cell_type": "code",
   "id": "13627ea8",
   "metadata": {
    "ExecuteTime": {
     "end_time": "2025-10-30T12:59:26.561441Z",
     "start_time": "2025-10-30T12:59:02.078081Z"
    }
   },
   "source": [
    "# Step 1: Split semicolon-separated string\n",
    "df_test['MitreList'] = df_test['MitreTechniques'].apply(\n",
    "    lambda x: x.split(';') if pd.notna(x) else []\n",
    ")\n",
    "\n",
    "# Step 2: Usa le stesse top 30 tecniche del training set\n",
    "# Dobbiamo ricaricare il training per identificare le top 30 tecniche\n",
    "df_train_mitre = pd.read_csv('../data/GUIDE_Train.csv', usecols=['MitreTechniques'])\n",
    "df_train_mitre['MitreList'] = df_train_mitre['MitreTechniques'].apply(\n",
    "    lambda x: x.split(';') if pd.notna(x) else []\n",
    ")\n",
    "all_techs_train = [tech for sublist in df_train_mitre['MitreList'] for tech in sublist]\n",
    "top_techs = [tech for tech, _ in Counter(all_techs_train).most_common(30)]\n",
    "top_tech_set = set(top_techs)\n",
    "\n",
    "print(f\"Top 30 MITRE techniques dal training set:\")\n",
    "print(f\"Top 10: {Counter(all_techs_train).most_common(10)}\")\n",
    "\n",
    "# Libera memoria\n",
    "del df_train_mitre, all_techs_train"
   ],
   "outputs": [
    {
     "name": "stdout",
     "output_type": "stream",
     "text": [
      "Top 30 MITRE techniques dal training set:\n",
      "Top 10: [('T1078', 1469659), ('T1078.004', 1357816), ('T1566.002', 815784), ('T1566', 663278), ('T1110', 189475), ('T1133', 177415), ('T1566.001', 140569), ('T1110.003', 108948), ('T1110.001', 107551), ('T1071', 96351)]\n"
     ]
    }
   ],
   "execution_count": 17
  },
  {
   "cell_type": "code",
   "id": "336ee4a2",
   "metadata": {
    "ExecuteTime": {
     "end_time": "2025-10-30T12:59:33.434036Z",
     "start_time": "2025-10-30T12:59:26.565754Z"
    }
   },
   "source": [
    "# Step 3: Filtra ogni lista per includere solo top techniques\n",
    "df_test['FilteredMitreList'] = df_test['MitreList'].apply(\n",
    "    lambda x: [tech for tech in x if tech in top_tech_set]\n",
    ")\n",
    "\n",
    "# Step 4: One-hot encode con MultiLabelBinarizer\n",
    "mlb = MultiLabelBinarizer(classes=top_techs)\n",
    "tech_matrix = pd.DataFrame(\n",
    "    mlb.fit_transform(df_test['FilteredMitreList']),\n",
    "    columns=mlb.classes_, \n",
    "    index=df_test.index\n",
    ")\n",
    "\n",
    "# Step 5: Merge e drop colonne originali\n",
    "df_test = pd.concat([df_test, tech_matrix], axis=1)\n",
    "df_test.drop(columns=['MitreTechniques', 'MitreList', 'FilteredMitreList'], inplace=True)\n",
    "\n",
    "print(f\"\\nMITRE features create: {tech_matrix.shape[1]}\")\n",
    "print(f\"Shape dataset test: {df_test.shape}\")"
   ],
   "outputs": [
    {
     "name": "stdout",
     "output_type": "stream",
     "text": [
      "\n",
      "MITRE features create: 30\n",
      "Shape dataset test: (4147992, 80)\n"
     ]
    }
   ],
   "execution_count": 18
  },
  {
   "cell_type": "markdown",
   "id": "dcf2d77e",
   "metadata": {},
   "source": [
    "### 2.8 Aggregazione a Livello Incident"
   ]
  },
  {
   "cell_type": "code",
   "id": "61eae360",
   "metadata": {
    "ExecuteTime": {
     "end_time": "2025-10-30T12:59:33.441699Z",
     "start_time": "2025-10-30T12:59:33.438757Z"
    }
   },
   "source": [
    "def get_mode(x):\n",
    "    mode = x.mode()\n",
    "    return mode[0] if len(mode) > 0 else x.iloc[0] if len(x) > 0 else None\n",
    "\n",
    "# Prepara aggregazioni\n",
    "agg_dict = {\n",
    "    'BinaryIncidentGrade': 'first',\n",
    "    'IncidentGrade': 'first',\n",
    "    'AlertId': 'nunique',\n",
    "    'Id': 'count',\n",
    "    'SmoothedRisk': 'mean',\n",
    "    'GeoLoc_freq': 'mean',\n",
    "    'hour': ['min', 'max', 'mean'],\n",
    "    'month': get_mode,\n",
    "    'weekday': get_mode,\n",
    "    'IsWeekend': 'max',\n",
    "    'Timestamp': ['min', 'max'],\n",
    "}\n",
    "\n",
    "# Aggiungi frequency-encoded columns (media)\n",
    "freq_cols = [col for col in df_test.columns if col.endswith('_freq') and col not in ['GeoLoc_freq']]\n",
    "for col in freq_cols:\n",
    "    agg_dict[col] = 'mean'\n",
    "\n",
    "# Aggiungi one-hot encoded columns (somma)\n",
    "onehot_cols_created = [col for col in df_test.columns if col.startswith(('SuspicionLevel_', 'EvidenceRole_'))]\n",
    "for col in onehot_cols_created:\n",
    "    agg_dict[col] = 'sum'\n",
    "\n",
    "# Aggiungi MITRE columns (somma)\n",
    "mitre_cols = [col for col in df_test.columns if col.startswith('T') and len(col) <= 6]\n",
    "for col in mitre_cols:\n",
    "    agg_dict[col] = 'sum'\n",
    "\n",
    "print(f\"Aggregazioni preparate per {len(agg_dict)} features\")"
   ],
   "outputs": [
    {
     "name": "stdout",
     "output_type": "stream",
     "text": [
      "Aggregazioni preparate per 43 features\n"
     ]
    }
   ],
   "execution_count": 19
  },
  {
   "cell_type": "code",
   "id": "be5c5b62",
   "metadata": {
    "ExecuteTime": {
     "end_time": "2025-10-30T12:59:45.790219Z",
     "start_time": "2025-10-30T12:59:33.446633Z"
    }
   },
   "source": [
    "# Esegui aggregazione\n",
    "incident_test = df_test.groupby('IncidentId').agg(agg_dict).reset_index()\n",
    "\n",
    "# Flatten colonne multi-livello\n",
    "incident_test.columns = [\n",
    "    '_'.join(col).strip('_') if isinstance(col, tuple) else col \n",
    "    for col in incident_test.columns.values\n",
    "]\n",
    "\n",
    "print(f\"Dataset test aggregato: {incident_test.shape}\")"
   ],
   "outputs": [
    {
     "name": "stdout",
     "output_type": "stream",
     "text": [
      "Dataset test aggregato: (236267, 47)\n"
     ]
    }
   ],
   "execution_count": 20
  },
  {
   "cell_type": "code",
   "id": "1a871364",
   "metadata": {
    "ExecuteTime": {
     "end_time": "2025-10-30T12:59:45.833220Z",
     "start_time": "2025-10-30T12:59:45.794394Z"
    }
   },
   "source": [
    "# Calcola durata e rinomina colonne\n",
    "incident_test['Duration_seconds'] = (\n",
    "    pd.to_datetime(incident_test['Timestamp_max']) - \n",
    "    pd.to_datetime(incident_test['Timestamp_min'])\n",
    ").dt.total_seconds()\n",
    "\n",
    "rename_map = {\n",
    "    'AlertId_nunique': 'NumAlerts',\n",
    "    'Id_count': 'NumEvidences',\n",
    "    'SmoothedRisk_mean': 'SmoothedRisk_avg',\n",
    "    'GeoLoc_freq_mean': 'GeoLoc_freq_avg',\n",
    "    'hour_min': 'Hour_First',\n",
    "    'hour_max': 'Hour_Last',\n",
    "    'hour_mean': 'Hour_Avg',\n",
    "    'BinaryIncidentGrade_first': 'BinaryIncidentGrade',\n",
    "    'IncidentGrade_first': 'IncidentGrade',\n",
    "}\n",
    "\n",
    "incident_test = incident_test.rename(columns=rename_map)\n",
    "incident_test = incident_test.drop(columns=['Timestamp_min', 'Timestamp_max'], errors='ignore')\n",
    "\n",
    "print(f\"Features finali test set: {incident_test.shape[1] - 3}\")  # -3 per ID e 2 target"
   ],
   "outputs": [
    {
     "name": "stdout",
     "output_type": "stream",
     "text": [
      "Features finali test set: 43\n"
     ]
    }
   ],
   "execution_count": 21
  },
  {
   "cell_type": "markdown",
   "id": "e5a23593",
   "metadata": {},
   "source": [
    "## 3. Estrazione Campioni Classe Minoritaria"
   ]
  },
  {
   "cell_type": "code",
   "id": "c322af17",
   "metadata": {
    "ExecuteTime": {
     "end_time": "2025-10-30T12:59:45.844050Z",
     "start_time": "2025-10-30T12:59:45.836710Z"
    }
   },
   "source": [
    "# Filtra solo TruePositive (classe 1) dal test set processato\n",
    "tp_samples = incident_test[incident_test['BinaryIncidentGrade'] == 1].copy()\n",
    "\n",
    "print(f\"Campioni TruePositive disponibili nel test set: {len(tp_samples):,}\")\n",
    "print(f\"Campioni necessari per bilanciamento: {samples_needed:,}\")\n",
    "\n",
    "# Determina quanti campioni aggiungere\n",
    "samples_to_add = min(len(tp_samples), samples_needed)\n",
    "\n",
    "print(f\"\\nCampioni che aggiungeremo: {samples_to_add:,}\")\n",
    "\n",
    "# Sample casuale se abbiamo più campioni del necessario\n",
    "if len(tp_samples) > samples_needed:\n",
    "    tp_samples_selected = tp_samples.sample(n=samples_needed, random_state=42)\n",
    "    print(f\"Campionamento casuale di {samples_needed:,} TruePositive\")\n",
    "else:\n",
    "    tp_samples_selected = tp_samples\n",
    "    print(f\"Utilizzo di tutti i {len(tp_samples):,} TruePositive disponibili\")"
   ],
   "outputs": [
    {
     "name": "stdout",
     "output_type": "stream",
     "text": [
      "Campioni TruePositive disponibili nel test set: 49,554\n",
      "Campioni necessari per bilanciamento: 180,374\n",
      "\n",
      "Campioni che aggiungeremo: 49,554\n",
      "Utilizzo di tutti i 49,554 TruePositive disponibili\n"
     ]
    }
   ],
   "execution_count": 22
  },
  {
   "cell_type": "markdown",
   "id": "e5ce731e",
   "metadata": {},
   "source": [
    "## 4. Merge con Training Set Originale"
   ]
  },
  {
   "cell_type": "code",
   "id": "81db0f2b",
   "metadata": {
    "ExecuteTime": {
     "end_time": "2025-10-30T12:59:46.321656Z",
     "start_time": "2025-10-30T12:59:45.853618Z"
    }
   },
   "source": [
    "# Ricostruisci incident_agg dal training originale\n",
    "incident_train = pd.read_csv('../data/processed_v3/incident_features.csv')\n",
    "\n",
    "print(f\"Training set originale (incident level): {incident_train.shape}\")\n",
    "\n",
    "# Verifica che le colonne siano allineate\n",
    "train_cols = set(incident_train.columns)\n",
    "test_cols = set(tp_samples_selected.columns)\n",
    "\n",
    "missing_in_test = train_cols - test_cols\n",
    "missing_in_train = test_cols - train_cols\n",
    "\n",
    "if missing_in_test:\n",
    "    print(f\"\\n⚠ Colonne nel training ma non nel test: {missing_in_test}\")\n",
    "    # Aggiungi colonne mancanti con valore 0\n",
    "    for col in missing_in_test:\n",
    "        tp_samples_selected[col] = 0\n",
    "\n",
    "if missing_in_train:\n",
    "    print(f\"\\n⚠ Colonne nel test ma non nel training: {missing_in_train}\")\n",
    "    # Aggiungi colonne mancanti con valore 0\n",
    "    for col in missing_in_train:\n",
    "        incident_train[col] = 0\n",
    "\n",
    "# Allinea ordine colonne\n",
    "tp_samples_selected = tp_samples_selected[incident_train.columns]\n",
    "\n",
    "print(f\"\\nColonne allineate: {incident_train.shape[1]}\")"
   ],
   "outputs": [
    {
     "name": "stdout",
     "output_type": "stream",
     "text": [
      "Training set originale (incident level): (448901, 46)\n",
      "\n",
      "Colonne allineate: 46\n"
     ]
    }
   ],
   "execution_count": 23
  },
  {
   "cell_type": "code",
   "id": "91268b44",
   "metadata": {
    "ExecuteTime": {
     "end_time": "2025-10-30T12:59:46.342326Z",
     "start_time": "2025-10-30T12:59:46.331771Z"
    }
   },
   "source": [
    "# Concatena training originale + nuovi campioni TruePositive\n",
    "incident_balanced = pd.concat([incident_train, tp_samples_selected], axis=0, ignore_index=True)\n",
    "\n",
    "print(f\"\\nDataset bilanciato: {incident_balanced.shape}\")\n",
    "print(f\"Campioni aggiunti: {len(tp_samples_selected):,}\")\n",
    "print(f\"\\nNuova distribuzione classi:\")\n",
    "print(incident_balanced['BinaryIncidentGrade'].value_counts())\n",
    "print(f\"\\nPercentuali:\")\n",
    "print(incident_balanced['BinaryIncidentGrade'].value_counts(normalize=True).mul(100).round(2))"
   ],
   "outputs": [
    {
     "name": "stdout",
     "output_type": "stream",
     "text": [
      "\n",
      "Dataset bilanciato: (498455, 46)\n",
      "Campioni aggiunti: 49,554\n",
      "\n",
      "Nuova distribuzione classi:\n",
      "BinaryIncidentGrade\n",
      "0    353289\n",
      "1    145166\n",
      "Name: count, dtype: int64\n",
      "\n",
      "Percentuali:\n",
      "BinaryIncidentGrade\n",
      "0    70.88\n",
      "1    29.12\n",
      "Name: proportion, dtype: float64\n"
     ]
    }
   ],
   "execution_count": 24
  },
  {
   "cell_type": "markdown",
   "id": "24686157",
   "metadata": {},
   "source": [
    "## 5. Preparazione Dataset per Modeling"
   ]
  },
  {
   "cell_type": "code",
   "id": "f006dbe7",
   "metadata": {
    "ExecuteTime": {
     "end_time": "2025-10-30T12:59:46.375014Z",
     "start_time": "2025-10-30T12:59:46.351988Z"
    }
   },
   "source": [
    "# Separa features e target\n",
    "X_balanced = incident_balanced.drop(columns=['IncidentId', 'BinaryIncidentGrade', 'IncidentGrade'])\n",
    "y_balanced = incident_balanced['BinaryIncidentGrade']\n",
    "\n",
    "# Gestisci missing (se presenti)\n",
    "X_balanced = X_balanced.fillna(-999)\n",
    "\n",
    "print(f\"Features finali: {X_balanced.shape}\")\n",
    "print(f\"Target: {y_balanced.shape}\")\n",
    "print(f\"\\nDistribuzione target:\")\n",
    "print(y_balanced.value_counts())\n",
    "print(f\"\\nPercentuali:\")\n",
    "print(y_balanced.value_counts(normalize=True).mul(100).round(2))"
   ],
   "outputs": [
    {
     "name": "stdout",
     "output_type": "stream",
     "text": [
      "Features finali: (498455, 43)\n",
      "Target: (498455,)\n",
      "\n",
      "Distribuzione target:\n",
      "BinaryIncidentGrade\n",
      "0    353289\n",
      "1    145166\n",
      "Name: count, dtype: int64\n",
      "\n",
      "Percentuali:\n",
      "BinaryIncidentGrade\n",
      "0    70.88\n",
      "1    29.12\n",
      "Name: proportion, dtype: float64\n"
     ]
    }
   ],
   "execution_count": 25
  },
  {
   "cell_type": "markdown",
   "id": "781fce9a",
   "metadata": {},
   "source": [
    "## 6. Split Train/Test Stratificato del Nuovo Dataset"
   ]
  },
  {
   "cell_type": "code",
   "id": "e4a72a37",
   "metadata": {
    "ExecuteTime": {
     "end_time": "2025-10-30T12:59:46.548720Z",
     "start_time": "2025-10-30T12:59:46.378536Z"
    }
   },
   "source": [
    "from sklearn.model_selection import train_test_split\n",
    "\n",
    "# Split stratificato (70/30)\n",
    "X_train_bal, X_test_bal, y_train_bal, y_test_bal = train_test_split(\n",
    "    X_balanced, y_balanced, test_size=0.3, stratify=y_balanced, random_state=42\n",
    ")\n",
    "\n",
    "print(f\"X_train_balanced: {X_train_bal.shape}\")\n",
    "print(f\"X_test_balanced: {X_test_bal.shape}\")\n",
    "print(f\"\\nDistribuzione y_train_balanced:\")\n",
    "print(y_train_bal.value_counts())\n",
    "print(y_train_bal.value_counts(normalize=True).mul(100).round(2))\n",
    "print(f\"\\nDistribuzione y_test_balanced:\")\n",
    "print(y_test_bal.value_counts())\n",
    "print(y_test_bal.value_counts(normalize=True).mul(100).round(2))"
   ],
   "outputs": [
    {
     "name": "stdout",
     "output_type": "stream",
     "text": [
      "X_train_balanced: (348918, 43)\n",
      "X_test_balanced: (149537, 43)\n",
      "\n",
      "Distribuzione y_train_balanced:\n",
      "BinaryIncidentGrade\n",
      "0    247302\n",
      "1    101616\n",
      "Name: count, dtype: int64\n",
      "BinaryIncidentGrade\n",
      "0    70.88\n",
      "1    29.12\n",
      "Name: proportion, dtype: float64\n",
      "\n",
      "Distribuzione y_test_balanced:\n",
      "BinaryIncidentGrade\n",
      "0    105987\n",
      "1     43550\n",
      "Name: count, dtype: int64\n",
      "BinaryIncidentGrade\n",
      "0    70.88\n",
      "1    29.12\n",
      "Name: proportion, dtype: float64\n"
     ]
    }
   ],
   "execution_count": 26
  },
  {
   "cell_type": "markdown",
   "id": "dd484701",
   "metadata": {},
   "source": [
    "## 7. Salvataggio Dataset Bilanciato"
   ]
  },
  {
   "cell_type": "code",
   "id": "67f9f416",
   "metadata": {
    "ExecuteTime": {
     "end_time": "2025-10-30T12:59:53.995071Z",
     "start_time": "2025-10-30T12:59:46.552348Z"
    }
   },
   "source": [
    "# Crea directory per dataset bilanciato\n",
    "os.makedirs('../data/processed_v3_balanced', exist_ok=True)\n",
    "\n",
    "# Salva dataset bilanciato\n",
    "X_train_bal.to_csv('../data/processed_v3_balanced/X_train.csv', index=False)\n",
    "X_test_bal.to_csv('../data/processed_v3_balanced/X_test.csv', index=False)\n",
    "y_train_bal.to_csv('../data/processed_v3_balanced/y_train.csv', index=False, header=['BinaryIncidentGrade'])\n",
    "y_test_bal.to_csv('../data/processed_v3_balanced/y_test.csv', index=False, header=['BinaryIncidentGrade'])\n",
    "\n",
    "# Salva anche il dataframe completo aggregato\n",
    "incident_balanced.to_csv('../data/processed_v3_balanced/incident_features.csv', index=False)\n",
    "\n",
    "print(\"Dataset bilanciato salvato in ../data/processed_v3_balanced/\")\n",
    "print(f\"  - X_train.csv: {X_train_bal.shape}\")\n",
    "print(f\"  - X_test.csv: {X_test_bal.shape}\")\n",
    "print(f\"  - y_train.csv: {y_train_bal.shape}\")\n",
    "print(f\"  - y_test.csv: {y_test_bal.shape}\")\n",
    "print(f\"  - incident_features.csv: {incident_balanced.shape}\")"
   ],
   "outputs": [
    {
     "name": "stdout",
     "output_type": "stream",
     "text": [
      "Dataset bilanciato salvato in ../data/processed_v3_balanced/\n",
      "  - X_train.csv: (348918, 43)\n",
      "  - X_test.csv: (149537, 43)\n",
      "  - y_train.csv: (348918,)\n",
      "  - y_test.csv: (149537,)\n",
      "  - incident_features.csv: (498455, 46)\n"
     ]
    }
   ],
   "execution_count": 27
  },
  {
   "cell_type": "markdown",
   "id": "32d01e61",
   "metadata": {},
   "source": [
    "## 8. Confronto Distribuzioni"
   ]
  },
  {
   "cell_type": "code",
   "id": "f8f8b5fc",
   "metadata": {
    "ExecuteTime": {
     "end_time": "2025-10-30T12:59:54.184994Z",
     "start_time": "2025-10-30T12:59:54.005154Z"
    }
   },
   "source": [
    "import matplotlib.pyplot as plt\n",
    "\n",
    "# Crea confronto visivo\n",
    "fig, axes = plt.subplots(1, 2, figsize=(14, 5))\n",
    "\n",
    "# Training originale\n",
    "y_train_orig['BinaryIncidentGrade'].value_counts().sort_index().plot(\n",
    "    kind='bar', ax=axes[0], color=['#d62728', '#2ca02c']\n",
    ")\n",
    "axes[0].set_title('Training Set Originale', fontsize=14, fontweight='bold')\n",
    "axes[0].set_xlabel('Classe (0=FP/BP, 1=TP)')\n",
    "axes[0].set_ylabel('Numero di campioni')\n",
    "axes[0].set_xticklabels(['0 (FP/BP)', '1 (TP)'], rotation=0)\n",
    "axes[0].grid(axis='y', alpha=0.3)\n",
    "\n",
    "# Training bilanciato\n",
    "y_train_bal.value_counts().sort_index().plot(\n",
    "    kind='bar', ax=axes[1], color=['#d62728', '#2ca02c']\n",
    ")\n",
    "axes[1].set_title('Training Set Bilanciato', fontsize=14, fontweight='bold')\n",
    "axes[1].set_xlabel('Classe (0=FP/BP, 1=TP)')\n",
    "axes[1].set_ylabel('Numero di campioni')\n",
    "axes[1].set_xticklabels(['0 (FP/BP)', '1 (TP)'], rotation=0)\n",
    "axes[1].grid(axis='y', alpha=0.3)\n",
    "\n",
    "plt.tight_layout()\n",
    "plt.savefig('../models/class_distribution_comparison.png', dpi=300, bbox_inches='tight')\n",
    "plt.show()\n",
    "\n",
    "print(\"Grafico salvato in ../models/class_distribution_comparison.png\")"
   ],
   "outputs": [
    {
     "data": {
      "text/plain": [
       "<Figure size 1400x500 with 2 Axes>"
      ],
      "image/png": "[encoded data removed]"
     },
     "metadata": {},
     "output_type": "display_data",
     "jetTransient": {
      "display_id": null
     }
    },
    {
     "name": "stdout",
     "output_type": "stream",
     "text": [
      "Grafico salvato in ../models/class_distribution_comparison.png\n"
     ]
    }
   ],
   "execution_count": 28
  },
  {
   "cell_type": "code",
   "id": "eb0ca70e",
   "metadata": {
    "ExecuteTime": {
     "end_time": "2025-10-30T12:59:54.195186Z",
     "start_time": "2025-10-30T12:59:54.190675Z"
    }
   },
   "source": [
    "# Stampa statistiche finali\n",
    "print(\"=\" * 60)\n",
    "print(\"RIEPILOGO BILANCIAMENTO\")\n",
    "print(\"=\" * 60)\n",
    "\n",
    "orig_counts = y_train_orig['BinaryIncidentGrade'].value_counts()\n",
    "bal_counts = y_train_bal.value_counts()\n",
    "\n",
    "print(f\"\\nTraining Originale:\")\n",
    "print(f\"  Classe 0 (FP/BP): {orig_counts[0]:,} ({orig_counts[0]/len(y_train_orig)*100:.2f}%)\")\n",
    "print(f\"  Classe 1 (TP):    {orig_counts[1]:,} ({orig_counts[1]/len(y_train_orig)*100:.2f}%)\")\n",
    "print(f\"  Totale:           {len(y_train_orig):,}\")\n",
    "print(f\"  Imbalance ratio:  {orig_counts[0]/orig_counts[1]:.2f}:1\")\n",
    "\n",
    "print(f\"\\nTraining Bilanciato:\")\n",
    "print(f\"  Classe 0 (FP/BP): {bal_counts[0]:,} ({bal_counts[0]/len(y_train_bal)*100:.2f}%)\")\n",
    "print(f\"  Classe 1 (TP):    {bal_counts[1]:,} ({bal_counts[1]/len(y_train_bal)*100:.2f}%)\")\n",
    "print(f\"  Totale:           {len(y_train_bal):,}\")\n",
    "print(f\"  Imbalance ratio:  {bal_counts[0]/bal_counts[1]:.2f}:1\")\n",
    "\n",
    "print(f\"\\nCampioni aggiunti:  {bal_counts[1] - orig_counts[1]:,}\")\n",
    "print(f\"Incremento classe minoritaria: {((bal_counts[1] - orig_counts[1]) / orig_counts[1] * 100):.2f}%\")\n",
    "print(\"=\" * 60)"
   ],
   "outputs": [
    {
     "name": "stdout",
     "output_type": "stream",
     "text": [
      "============================================================\n",
      "RIEPILOGO BILANCIAMENTO\n",
      "============================================================\n",
      "\n",
      "Training Originale:\n",
      "  Classe 0 (FP/BP): 247,302 (78.70%)\n",
      "  Classe 1 (TP):    66,928 (21.30%)\n",
      "  Totale:           314,230\n",
      "  Imbalance ratio:  3.70:1\n",
      "\n",
      "Training Bilanciato:\n",
      "  Classe 0 (FP/BP): 247,302 (70.88%)\n",
      "  Classe 1 (TP):    101,616 (29.12%)\n",
      "  Totale:           348,918\n",
      "  Imbalance ratio:  2.43:1\n",
      "\n",
      "Campioni aggiunti:  34,688\n",
      "Incremento classe minoritaria: 51.83%\n",
      "============================================================\n"
     ]
    }
   ],
   "execution_count": 29
  },
  {
   "cell_type": "markdown",
   "id": "22a84c49",
   "metadata": {},
   "source": [
    "## Summary\n",
    "\n",
    "**Obiettivo raggiunto:**\n",
    "- ✓ Preprocessing identico a Test_03 - FeatureEngineering_v3 applicato a GUIDE_Test\n",
    "- ✓ Campioni TruePositive estratti dal test set\n",
    "- ✓ Training set bilanciato creato\n",
    "- ✓ Split stratificato 70/30 mantenuto\n",
    "- ✓ Dataset salvato in `../data/processed_v3_balanced/`\n",
    "\n",
    "**Prossimi passi:**\n",
    "1. Addestrare XGBoost sul nuovo dataset bilanciato\n",
    "2. Confrontare performance con modello su dataset originale\n",
    "3. Valutare se il bilanciamento migliora recall sulla classe minoritaria\n",
    "\n",
    "**Note importanti:**\n",
    "- SmoothedRisk calcolato da statistiche training per evitare data leakage\n",
    "- Top 30 MITRE techniques dal training set usate per test set\n",
    "- Colonne allineate tra training e test per garantire compatibilità"
   ]
  }
 ],
 "metadata": {
  "language_info": {
   "name": "python"
  },
  "kernelspec": {
   "name": "python3",
   "language": "python",
   "display_name": "Python 3 (ipykernel)"
  }
 },
 "nbformat": 4,
 "nbformat_minor": 5
}
